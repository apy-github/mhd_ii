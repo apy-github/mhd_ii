{
 "cells": [
  {
   "cell_type": "markdown",
   "id": "9ca0f8ff-2124-4b17-82f3-ab50f334f42f",
   "metadata": {},
   "source": [
    "Import some standard (numpy, matplotlib, and deepcopy) modules and the python library for STiC:"
   ]
  },
  {
   "cell_type": "code",
   "execution_count": null,
   "id": "dd5fe3d4-b447-4591-9f89-4f70a7458635",
   "metadata": {},
   "outputs": [],
   "source": [
    "import sparsetools as sp\n",
    "import numpy as np\n",
    "import matplotlib.pyplot as pl\n",
    "%matplotlib inline\n",
    "from copy import deepcopy as cp"
   ]
  },
  {
   "cell_type": "markdown",
   "id": "c7bd32e1-e9a7-4e9b-8d1a-2bae2c162662",
   "metadata": {},
   "source": [
    "Define some functions to plot profiles, models and response functions:"
   ]
  },
  {
   "cell_type": "code",
   "execution_count": null,
   "id": "7a672358-168b-4d91-8366-bb395173d154",
   "metadata": {},
   "outputs": [],
   "source": [
    "def plot_profile(llp, t=0, y=0, x=0, s=0, kwargs=[], plkwargs={}):\n",
    "    #\n",
    "    #\n",
    "    # Check inputs\n",
    "    if (len(kwargs)!=len(llp)):\n",
    "        ikwargs = [{},] * len(llp)\n",
    "    else:\n",
    "        ikwargs = cp(kwargs)\n",
    "    #\n",
    "    #\n",
    "    ncols = len(llp[0].splitRegions())\n",
    "    nrows = 1#np.ceil(npars/ncols).astype(\"i2\")\n",
    "\n",
    "    toadd_xlabel=1\n",
    "    fg, ax = pl.subplots(ncols = ncols, nrows=nrows, sharey=1, **plkwargs)\n",
    "    # Loop through profiles and plot kwargs\n",
    "    labs = []\n",
    "    for i,j in zip(llp, ikwargs):\n",
    "        cnt=-1\n",
    "        for k in i.splitRegions():\n",
    "            cnt+=1\n",
    "            ww = np.where(k.weights[:,s]<2)\n",
    "            labs.append(ax.flat[cnt].plot(k.wav[ww[0]]-k.wav.mean(), k.dat[t,y,x,ww[0],s], **j))\n",
    "            if (toadd_xlabel):\n",
    "                ax.flat[cnt].set_xlabel(r\"$\\lambda-%.5f$\" % (k.wav.mean(),))\n",
    "        if (toadd_xlabel):\n",
    "            toadd_xlabel=0\n",
    "            \n",
    "    #\n",
    "    #\n",
    "    # End plot:\n",
    "    for i in ikwargs:\n",
    "        if (\"label\" in i):\n",
    "            lines_labels = [ax.flat[0].get_legend_handles_labels(),]\n",
    "            lines, labels = [sum(i, []) for i in zip(*lines_labels)]\n",
    "            fg.legend(lines, labels, loc=\"upper center\", ncol=len(llp))\n",
    "    fg.tight_layout()"
   ]
  },
  {
   "cell_type": "code",
   "execution_count": null,
   "id": "b2dd064b-93cc-4050-b1d1-a1e5551fb4d7",
   "metadata": {},
   "outputs": [],
   "source": [
    "def plot_model(llm, t=0, y=0, x=0, mpars=[\"temp\", \"vlos\", \"vturb\", \"Bln\", \"Bho\", \"azi\"], kwargs=[], plkwargs={}, rfs=None):\n",
    "    #\n",
    "    #\n",
    "    mnames = {\"temp\":\"T\", \"vlos\":r\"v$_{\\rm LOS}$\", \"vturb\":r\"v$_{\\rm turb}$\", \"Bln\":r\"B$_{\\parallel}$\", \"Bho\":r\"B$_{\\perp}$\", \"azi\":r\"B$_{\\phi}$\"}\n",
    "    munits = {\"temp\":\"kK\", \"vlos\":\"km/s\", \"vturb\":\"km/s\", \"Bln\":\"G\", \"Bho\":\"G\", \"azi\":\"rd\"}\n",
    "    mfactors = {\"temp\":1.e-3, \"vlos\":1.e-5, \"vturb\":1.e-5, \"Bln\":1, \"Bho\":1, \"azi\":1}\n",
    "    vmaxs = {\"temp\":12.5, \"vlos\":3, \"vturb\":5, \"Bln\":600, \"Bho\":1000, \"azi\":np.pi}\n",
    "    vmins = {\"temp\":2.5, \"vlos\":-3, \"vturb\":0, \"Bln\":200, \"Bho\":0, \"azi\":0}\n",
    "\n",
    "    dpar = {\"temp\":0, \"vlos\":1, \"vturb\":2, \"Bln\":3, \"Bho\":4, \"azi\":5}\n",
    "    #\n",
    "    # Check inputs\n",
    "    if (len(kwargs)!=len(llm)):\n",
    "        ikwargs = [{},] * len(llm)\n",
    "    else:\n",
    "        ikwargs = cp(kwargs)\n",
    "    #\n",
    "    plot_rf = False\n",
    "    if (type(rfs)!=type(None)):\n",
    "        assert type(rfs)==list\n",
    "        assert len(rfs)==len(llm)\n",
    "        plot_rf = True\n",
    "    #\n",
    "    npars = len(mpars)\n",
    "    ncols = np.ceil(np.sqrt(npars)).astype(\"i2\")\n",
    "    nrows = np.ceil(npars/ncols).astype(\"i2\")\n",
    "    fg, ax = pl.subplots(ncols=ncols, nrows=nrows, sharex=True, **plkwargs)\n",
    "    # Loop through model parameters and models and plot kwargs\n",
    "    for lcp, lip in enumerate(mpars):\n",
    "        cnt = -1\n",
    "        for i,j in zip(llm, ikwargs):\n",
    "            cnt+=1\n",
    "            tmp = ax.flat[lcp].plot(i.ltau[t,y,x,:], getattr(i, lip)[t,y,x,:] * mfactors[lip], **j)\n",
    "            if (plot_rf):\n",
    "                if (type(rfs[cnt])!=type(None)):\n",
    "                    #tadd = 1./np.abs(rfs[cnt].rf[t,y,x,dpar[lip],:,:,:]).sum((1,2))*np.sum(rfs[cnt].weights<1.e1)/600.\n",
    "                    tadd = 1./np.abs(rfs[cnt].rf[t,y,x,dpar[lip],:,:,:]).sum((1,2))*10./600.\n",
    "\n",
    "                    ax.flat[lcp].fill_between(i.ltau[t,y,x,:]\n",
    "                                              , (getattr(i, lip)[t,y,x,:]-tadd) * mfactors[lip]\n",
    "                                              , (getattr(i, lip)[t,y,x,:]+tadd) * mfactors[lip]\n",
    "                                              , alpha=0.3, color=tmp[0].get_color())\n",
    "    #\n",
    "    #\n",
    "    # End plot:\n",
    "    for lcp, lip in enumerate(mpars):\n",
    "        ax.flat[lcp].set_ylabel(r\"%s [%s]\" % (mnames[lip], munits[lip],))\n",
    "        ax.flat[lcp].set_ylim(vmins[lip], vmaxs[lip])\n",
    "    for i in ikwargs:\n",
    "        if (\"label\" in i):\n",
    "            pl.legend()\n",
    "            break\n",
    "    pl.tight_layout()"
   ]
  },
  {
   "cell_type": "code",
   "execution_count": null,
   "id": "33f5aae3-ec4f-4949-9802-ca24647eaf67",
   "metadata": {},
   "outputs": [],
   "source": [
    "def plot_rf(llp, par, t=0, y=0, x=0, s=0, kwargs=[], plkwargs={}, yaxis=None):\n",
    "    #\n",
    "    #\n",
    "    # Check inputs\n",
    "    if (len(kwargs)!=len(llp)):\n",
    "        ikwargs = [{},] * len(llp)\n",
    "    else:\n",
    "        ikwargs = cp(kwargs)\n",
    "    #\n",
    "    dpar = {\"temp\":0, \"vlos\":1, \"vturb\":2, \"Bln\":3, \"Bho\":4, \"azi\":5}\n",
    "    #\n",
    "    ncols = len(llp[0].splitRegions())\n",
    "    nrows = len(llp)#np.ceil(npars/ncols).astype(\"i2\")\n",
    "\n",
    "    if (type(yaxis)==type(None)):\n",
    "        ya = [0, llp[0].rf.shape[4]-1]\n",
    "    else:\n",
    "        ya = cp(yaxis)\n",
    "    toadd_xlabel=1\n",
    "    fg, ax = pl.subplots(ncols = ncols, nrows=nrows, sharey=1, **plkwargs)\n",
    "    # Loop through profiles and plot kwargs\n",
    "    for i,j in zip(llp, ikwargs):\n",
    "        cnt=-1\n",
    "        vmin, vmax = np.nanpercentile(i.rf[t,y,x,dpar[par],:,:,s].flatten(), [1,99])\n",
    "        vval = np.max([np.abs([vmin, vmax])])\n",
    "        vmin = -vval\n",
    "        vmax = vval\n",
    "        for k in i.splitRegions():\n",
    "            cnt+=1\n",
    "            xw = k.wav-k.wav.mean()\n",
    "            ax.flat[cnt].imshow(k.rf[t,y,x,dpar[par],:,:,s], origin='lower', vmax=vmax, vmin=vmin, cmap=\"PuOr\", interpolation=\"nearest\", aspect=\"auto\", extent=[xw[0],xw[-1],ya[0],ya[-1]])\n",
    "\n",
    "            \n",
    "            if (toadd_xlabel):\n",
    "                ax.flat[cnt].set_xlabel(r\"$\\lambda-%.5f$\" % (k.wav.mean(),))\n",
    "        if (toadd_xlabel):\n",
    "            toadd_xlabel=0\n",
    "            \n",
    "    #\n",
    "    #\n",
    "    # End plot:\n",
    "    for i in ikwargs:\n",
    "        if (\"label\" in i):\n",
    "            fg.legend()\n",
    "    fg.tight_layout()"
   ]
  },
  {
   "cell_type": "markdown",
   "id": "d8ed6a3f-d625-49c9-96be-ea014c110751",
   "metadata": {},
   "source": [
    "Synthesize the Stokes spectra in 1D NLTE PRD of a modified (adding LOS velocity and magnetic field vector) FALC ([Fontenla et al. 1993](https://ui.adsabs.harvard.edu/abs/1993ApJ...406..319F/abstract)) model.\n",
    "\n",
    "To do so, we have to edit/check:\n",
    "\n",
    "    input.cfg\n",
    "        mode, depth_t\n",
    "    keyword.input\n",
    "    atoms.input"
   ]
  },
  {
   "cell_type": "code",
   "execution_count": null,
   "id": "89822d9a-1494-40a4-899a-a07f214704d3",
   "metadata": {},
   "outputs": [],
   "source": [
    "!ln -vfs input_syn.cfg input.cfg\n",
    "!ln -vfs keyword_prd.input keyword.input"
   ]
  },
  {
   "cell_type": "markdown",
   "id": "f1a22f7d-542b-4703-8650-ff4203428d5f",
   "metadata": {},
   "source": [
    "The following one takes ~10 seconds"
   ]
  },
  {
   "cell_type": "code",
   "execution_count": null,
   "id": "bf7f1a74-92b0-41cf-874d-78ed996e5615",
   "metadata": {},
   "outputs": [],
   "source": [
    "!mpirun -n 2 ./STiC.x"
   ]
  },
  {
   "cell_type": "markdown",
   "id": "fd3acee7-0cb4-4f3a-ae4b-a3d9e0cf2bb9",
   "metadata": {},
   "source": [
    "Use STiC's python module \"profile\" function to read the synthetic profiles:"
   ]
  },
  {
   "cell_type": "code",
   "execution_count": null,
   "id": "1e7f07a0-3c28-4a4e-90ca-0ca50822f8c3",
   "metadata": {},
   "outputs": [],
   "source": [
    "obs = sp.profile(\"./synthetic_cycle0.nc\")"
   ]
  },
  {
   "cell_type": "markdown",
   "id": "76890f60-f879-4c85-94f7-72200114d968",
   "metadata": {},
   "source": [
    "Plot them:"
   ]
  },
  {
   "cell_type": "code",
   "execution_count": null,
   "id": "bce16e7e-0608-4e94-8c31-5c3ea313855d",
   "metadata": {},
   "outputs": [],
   "source": [
    "plot_profile([obs,], s=0, plkwargs={\"figsize\":(11,6)})"
   ]
  },
  {
   "cell_type": "markdown",
   "id": "6b6b7bce-7b82-4ee9-b7ae-eab389a65bc7",
   "metadata": {},
   "source": [
    "We will simulate an observation with no polarimetry below 5000 angstrom and assuming we have achieved a SNR of 600:"
   ]
  },
  {
   "cell_type": "code",
   "execution_count": null,
   "id": "6c8c0de9-cd12-495e-94d4-22f0e3a7e5ea",
   "metadata": {},
   "outputs": [],
   "source": [
    "# Add some noise:\n",
    "snr = 600.\n",
    "nobs = cp(obs)\n",
    "rng = np.random.default_rng(seed=12345)\n",
    "nobs.dat += rng.normal(size=nobs.dat.size).reshape(*nobs.dat.shape) / snr\n",
    "ww = np.where(nobs.wav < 5000.)\n",
    "nobs.weights = nobs.weights * 0. + 1./snr\n",
    "nobs.weights[ww[0],1:] = 1.e32\n",
    "nobs.dat[:,:,:,ww[0],1:] *= 0"
   ]
  },
  {
   "cell_type": "code",
   "execution_count": null,
   "id": "65dfe606-c1d1-4908-8623-fa4b3f4639e3",
   "metadata": {},
   "outputs": [],
   "source": [
    "plot_profile([obs,nobs],s=0, plkwargs={\"figsize\":(11,6)})"
   ]
  },
  {
   "cell_type": "markdown",
   "id": "74137a75-3277-407c-bbbd-24517e2946ab",
   "metadata": {},
   "source": [
    "Write the modified synthetic spectra to use for the inversions:"
   ]
  },
  {
   "cell_type": "code",
   "execution_count": null,
   "id": "c7d1d374-0c72-47e3-87dd-3068458a551d",
   "metadata": {},
   "outputs": [],
   "source": [
    "nobs.write(\"./observed.nc\")"
   ]
  },
  {
   "cell_type": "markdown",
   "id": "d91ea960-2e09-4627-88ac-04b93e051433",
   "metadata": {},
   "source": [
    "For the Stokes inversion we need to provide an initial guess for the model atmosphere.\n",
    "\n",
    "Generate a 'reasonable' model:"
   ]
  },
  {
   "cell_type": "code",
   "execution_count": null,
   "id": "72fe3fd3-dd30-49d6-86c0-3ca0f265123b",
   "metadata": {},
   "outputs": [],
   "source": [
    "# Init the input model, all quantities in CGS units!\n",
    "# First create a tau scale\n",
    "taumin = -7.8\n",
    "taumax= 1.0\n",
    "dtau = 0.14\n",
    "ntau = int((taumax-taumin)/dtau) + 1\n",
    "tau = np.arange(ntau, dtype='float64')/(ntau-1.0) * (taumax-taumin) + taumin\n",
    "# Now create a smooth temperature profile\n",
    "temp = np.interp(tau, np.asarray([-8.0, -6.0, -4.0, -2.0 , 0.8]), np.asarray([70000., 8000., 4000., 4800., 7000.]))\n",
    "# Fill in the model\n",
    "m = sp.model(nx=1, ny=1, nt=1, ndep=ntau)\n",
    "m.ltau[0,0,0,:] = tau\n",
    "m.temp[0,0,0,:] = temp\n",
    "# The inversion only needs to know the gas pressure at the upper boundary. FALC has Pgas[top] ~ 0.3, but\n",
    "# this value is for quiet-Sun. Active regions can have up to Pgas[top] = 10.\n",
    "m.pgas[0,0,0,:] = 1.0\n",
    "# Fill in initial B field and velovity (optional)\n",
    "m.vturb[0,0,0,:] = 1.e5\n",
    "m.vlos[0,0,0,:] = 0.5e5 # cm/s\n",
    "m.Bln[0,0,0,:] = 300.\n",
    "m.Bho[0,0,0,:] = 650.\n",
    "m.azi[0,0,0,:] = 100. * 3.14159 / 180.\n",
    "# Write to HD\n",
    "m.write('modelin.nc')\n"
   ]
  },
  {
   "cell_type": "markdown",
   "id": "2977a805-acff-4ba9-95ca-844d04606063",
   "metadata": {},
   "source": [
    "To begin with, we consider the inversion of these \"observations\" considering PRD and NLTE inversion:\n",
    "\n",
    "Check:\n",
    "\n",
    "    input.cfg\n",
    "    keyword.input\n",
    "    atoms.input"
   ]
  },
  {
   "cell_type": "code",
   "execution_count": null,
   "id": "b956a382-ec7b-4592-8578-cda48828c7b8",
   "metadata": {},
   "outputs": [],
   "source": [
    "!ln -vfs input_prd.cfg input.cfg\n",
    "!ln -vfs keyword_prd.input keyword.input"
   ]
  },
  {
   "cell_type": "markdown",
   "id": "df72867a-5042-4a43-a1bc-6adf8355fb33",
   "metadata": {},
   "source": [
    "The following one takes ~16 minutes!!"
   ]
  },
  {
   "cell_type": "code",
   "execution_count": null,
   "id": "466eb25e-46b3-4fc1-9528-4f20d2b7e4b4",
   "metadata": {},
   "outputs": [],
   "source": [
    "!mpirun -n 2 ./STiC.x"
   ]
  },
  {
   "cell_type": "code",
   "execution_count": null,
   "id": "f673f255-ddde-40c9-9ad1-d35db0a439b7",
   "metadata": {},
   "outputs": [],
   "source": [
    "nlteprd_prof = sp.profile(\"./synthetic_cycle1_prd.nc\")\n"
   ]
  },
  {
   "cell_type": "markdown",
   "id": "05e9a3a6-fbab-416c-beda-21a3be53c548",
   "metadata": {},
   "source": [
    "Compare the synthetic profile of the inferred model (Stokes I -s=0-):"
   ]
  },
  {
   "cell_type": "code",
   "execution_count": null,
   "id": "482d7d70-4c3a-4c8b-ab6f-2c5dd8617074",
   "metadata": {},
   "outputs": [],
   "source": [
    "plot_profile([nobs,nlteprd_prof]\n",
    "             , kwargs=[{\"label\":\"Obs\",\"ls\":\"none\",\"marker\":\"o\"}, {\"label\":\"PRD\"},]\n",
    "             , plkwargs={\"figsize\":(10,8)})"
   ]
  },
  {
   "cell_type": "markdown",
   "id": "3542010b-2e97-4ff5-975c-5ecd2522a9e2",
   "metadata": {},
   "source": [
    "Compare the synthetic profile of the inferred model (Stokes V -s=3-):"
   ]
  },
  {
   "cell_type": "code",
   "execution_count": null,
   "id": "4061d2ae-a433-400e-addd-40148fe4848b",
   "metadata": {},
   "outputs": [],
   "source": [
    "plot_profile([nobs,nlteprd_prof]\n",
    "             , kwargs=[{\"label\":\"Obs\",\"ls\":\"none\",\"marker\":\"o\"}, {\"label\":\"PRD\"},]\n",
    "             , plkwargs={\"figsize\":(10,8)}, s=3)"
   ]
  },
  {
   "cell_type": "markdown",
   "id": "90bfc987-b3f8-4802-b0ac-a0f78a927fa0",
   "metadata": {},
   "source": [
    "Compare the inferred model with the one we used to generate the \"observations\":"
   ]
  },
  {
   "cell_type": "code",
   "execution_count": null,
   "id": "52bec1dc-de19-4d94-9e5b-0b68efadebdc",
   "metadata": {},
   "outputs": [],
   "source": [
    "m_ref = sp.model(\"./infalc_model.nc\")\n",
    "m_prd = sp.model(\"./atmosout_cycle1_prd.nc\")"
   ]
  },
  {
   "cell_type": "code",
   "execution_count": null,
   "id": "b0b5279c-9d43-477b-a473-97b12f9f70c5",
   "metadata": {},
   "outputs": [],
   "source": [
    "plot_model([m_ref, m_prd]\n",
    "           , kwargs=[{\"label\":\"REF\"},{\"label\":\"PRD\"}]\n",
    "           , plkwargs={\"figsize\":(14,8)})"
   ]
  },
  {
   "cell_type": "markdown",
   "id": "98016234-5ebb-4ea7-8547-2b48c30c6b3f",
   "metadata": {},
   "source": [
    "We can get an idea of the optical depths where the selected spectral lines provide us with information about the optical depth dependent model:\n",
    "\n",
    "To do so, change the \"mode\" in \"input.cfg\" and add the following lane:\n",
    "\n",
    "    #\n",
    "    centered_derivatives = 1\n",
    "    #              t, vlos, vturb, Bln, Bho, azi\n",
    "    get_response = 1,    1,     1,   1,   1,   1\n"
   ]
  },
  {
   "cell_type": "code",
   "execution_count": null,
   "id": "85524546-bb0f-4f5f-93d7-5f0e28f9a393",
   "metadata": {},
   "outputs": [],
   "source": [
    "!ln -vfs input_prd_rf.cfg input.cfg\n",
    "!ln -vfs keyword_prd.input keyword.input"
   ]
  },
  {
   "cell_type": "markdown",
   "id": "6bbf5407-da28-4b92-ba3d-b3ec0f3ffcbd",
   "metadata": {},
   "source": [
    "The following piece of code takes ~ minutes."
   ]
  },
  {
   "cell_type": "code",
   "execution_count": null,
   "id": "40451520-0ccc-4800-a2cc-285a67e9a337",
   "metadata": {
    "scrolled": true
   },
   "outputs": [],
   "source": [
    "!mpirun -n 2 ./STiC.x"
   ]
  },
  {
   "cell_type": "markdown",
   "id": "5d76d147-5eaf-4623-b37b-3141bc7fc168",
   "metadata": {},
   "source": [
    "Read the response functions. It is the same \"profile\" function as for the synthetic spectra but now there is an additional attribute called \"rf\"."
   ]
  },
  {
   "cell_type": "code",
   "execution_count": null,
   "id": "0ca92d81-4da0-4530-ba6a-7bd5ec525163",
   "metadata": {},
   "outputs": [],
   "source": [
    "rfprd = sp.profile(\"synthetic_cycle1_prd_rf.nc\")"
   ]
  },
  {
   "cell_type": "markdown",
   "id": "c4fac2b1-8b74-4421-9f81-f9ed093f75a5",
   "metadata": {},
   "source": [
    "Response functions encode how the Stokes spectra changes as a specific parameter varies at a given height.\n",
    "\n",
    "For example, the response functions to the temperature are:"
   ]
  },
  {
   "cell_type": "code",
   "execution_count": null,
   "id": "60242c36-9333-4a71-896b-cf29b8cf5eab",
   "metadata": {},
   "outputs": [],
   "source": [
    "plot_rf([rfprd,], \"temp\", yaxis=m_prd.ltau[0,0,0,:])\n"
   ]
  },
  {
   "cell_type": "code",
   "execution_count": null,
   "id": "eefda828-8976-4e24-aa67-4a08cab07314",
   "metadata": {},
   "outputs": [],
   "source": [
    "plot_rf([rfprd,], \"temp\", yaxis=m_prd.ltau[0,0,0,:],s=3)\n"
   ]
  },
  {
   "cell_type": "code",
   "execution_count": null,
   "id": "870dc214-fca7-43c5-a0ba-b1ad1ecd80b5",
   "metadata": {},
   "outputs": [],
   "source": [
    "plot_rf([rfprd,], \"temp\", yaxis=m_prd.ltau[0,0,0,:],s=1)\n"
   ]
  },
  {
   "cell_type": "code",
   "execution_count": null,
   "id": "3d2292b0-e6e8-4e33-bc7d-a7f4953416a6",
   "metadata": {},
   "outputs": [],
   "source": [
    "plot_rf([rfprd,], \"temp\", yaxis=m_prd.ltau[0,0,0,:], s=2)"
   ]
  },
  {
   "cell_type": "markdown",
   "id": "8023d51e-b7d0-4cc0-bc46-649fd9b0baf0",
   "metadata": {},
   "source": [
    "You can check the RFs for the \"vlos\", \"vturb\", \"Bln\", \"Bho\", and/or \"azi\""
   ]
  },
  {
   "cell_type": "markdown",
   "id": "7bfe5040-f66d-4c67-b600-462d73d3c27c",
   "metadata": {},
   "source": [
    "We can now use the information of the response function to get a rough idea as to at what optical depths the spectra are sensitive to the model:"
   ]
  },
  {
   "cell_type": "code",
   "execution_count": null,
   "id": "eaa32b30-60e0-499c-96a6-9eba2f3f1c61",
   "metadata": {},
   "outputs": [],
   "source": [
    "plot_model([m_ref, m_prd,]\n",
    "           , kwargs=[{\"label\":\"REF\"},{\"label\":\"PRD\"},]\n",
    "           , plkwargs={\"figsize\":(14,8)}, rfs=[None, rfprd, ])"
   ]
  },
  {
   "cell_type": "code",
   "execution_count": null,
   "id": "d3dac7bb-0c4a-4fa8-a24d-93265840a9fa",
   "metadata": {},
   "outputs": [],
   "source": []
  },
  {
   "cell_type": "markdown",
   "id": "cb178a07-5857-4522-a610-e505952976d3",
   "metadata": {},
   "source": [
    "Exercises:\n",
    "\n",
    "1-Repeat inversion in CRD:\n",
    "\n",
    "    Hint: edit keyword.input so that \"PRD_N_MAX_ITER=0\"\n",
    "\n",
    "2- Repeat inversion in LTE:\n",
    "\n",
    "    Hint: edit input.cfg so that you get something like:\n",
    "\n",
    "        # Type of atmosphere: rh or lte\n",
    "        #atmosphere_type = rh\n",
    "        atmosphere_type = lte\n",
    "        lines = all\n",
    "\n",
    "3- Change the number of nodes to get an idea of the impact they have in the inference\n",
    "\n",
    "    Hint: you can change the number of nodes in \"input.cfg\":\n",
    "\n",
    "        # nodes, it can be one number indicating the number of\n",
    "        # equidistant nodes or the actual locations, coma-separated\n",
    "        nodes_temp = 9\n",
    "        nodes_vturb = 5\n",
    "        nodes_vlos = 5\n",
    "        nodes_blong = 3\n",
    "        nodes_bhor = 2\n",
    "        nodes_azi = 1\n",
    "\n",
    "\n",
    "4- Change the regularization type/norm to check what the is the effect of regularization\n",
    "\n",
    "    Hint: you can change the type and norm of the regularization in \"input.cfg\":\n",
    "\n",
    "        # 0 none, 1 Tikhonov (first derivative), 2 deviations from mean, 3 deviations from zero\n",
    "        # 7 numbers: Temp, Vlos, vturb, B, inc, azi, pgas_boundary\n",
    "        # default (0,0,0,0,0,0,0). Not all numbers work with all parameters. For example deviations\n",
    "        # from constant values for temperature does not make sense...in that case it reverts to zero\n",
    "        # Regularization_weights: up to 7 numbers with the relative scaling of each parameter. This weight is multiplied by \"regularize\".\n",
    "\n",
    "        regularization_type = 1,1,3,1,1,1,1\n",
    "        regularize = 1\n",
    "        regularization_weights = 1, 1, 1, 0.1, 0.1, 0.1, 1.0 \n",
    "\n",
    "Message to take home:\n",
    "\n",
    "    The results of the inference depend on the model one choses to explain the observations and the posterior analysis has to be done with that in mind!\n"
   ]
  },
  {
   "cell_type": "code",
   "execution_count": null,
   "id": "f361b730-f179-44c2-b2db-597ba073f9a2",
   "metadata": {},
   "outputs": [],
   "source": []
  }
 ],
 "metadata": {
  "kernelspec": {
   "display_name": "Python 3 (ipykernel)",
   "language": "python",
   "name": "python3"
  },
  "language_info": {
   "codemirror_mode": {
    "name": "ipython",
    "version": 3
   },
   "file_extension": ".py",
   "mimetype": "text/x-python",
   "name": "python",
   "nbconvert_exporter": "python",
   "pygments_lexer": "ipython3",
   "version": "3.12.3"
  }
 },
 "nbformat": 4,
 "nbformat_minor": 5
}
