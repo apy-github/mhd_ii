{
 "cells": [
  {
   "cell_type": "code",
   "execution_count": null,
   "id": "dd5fe3d4-b447-4591-9f89-4f70a7458635",
   "metadata": {},
   "outputs": [],
   "source": [
    "import sparsetools as sp\n",
    "import numpy as np\n",
    "import matplotlib.pyplot as pl\n",
    "%matplotlib inline\n",
    "from copy import deepcopy as cp"
   ]
  },
  {
   "cell_type": "markdown",
   "id": "d8ed6a3f-d625-49c9-96be-ea014c110751",
   "metadata": {},
   "source": [
    "Let us synthesize the Stokes spectra in 1D NLTE PRD of a modified (adding LOS velocity and magnetic field vector) FALC (ADD REFERENCE!!) model."
   ]
  },
  {
   "cell_type": "code",
   "execution_count": null,
   "id": "89822d9a-1494-40a4-899a-a07f214704d3",
   "metadata": {},
   "outputs": [],
   "source": [
    "!ln -vfs input_syn.cfg input.cfg"
   ]
  },
  {
   "cell_type": "code",
   "execution_count": null,
   "id": "238e38b2-36b3-4209-b8aa-d267ad698ad2",
   "metadata": {},
   "outputs": [],
   "source": [
    "!ln -vfs keyword_prd.input keyword.input"
   ]
  },
  {
   "cell_type": "code",
   "execution_count": null,
   "id": "bf7f1a74-92b0-41cf-874d-78ed996e5615",
   "metadata": {},
   "outputs": [],
   "source": [
    "!mpirun -n 2 ./STiC.x"
   ]
  },
  {
   "cell_type": "markdown",
   "id": "fd3acee7-0cb4-4f3a-ae4b-a3d9e0cf2bb9",
   "metadata": {},
   "source": [
    "We can use the \"profile\" method of the STiC python module to read the synthetic profiles:"
   ]
  },
  {
   "cell_type": "code",
   "execution_count": null,
   "id": "1e7f07a0-3c28-4a4e-90ca-0ca50822f8c3",
   "metadata": {},
   "outputs": [],
   "source": [
    "obs = sp.profile(\"./synthetic_cycle0.nc\")"
   ]
  },
  {
   "cell_type": "code",
   "execution_count": null,
   "id": "3edd3c9f-9c08-4b8f-acf3-cc6c8c69b989",
   "metadata": {},
   "outputs": [],
   "source": []
  },
  {
   "cell_type": "code",
   "execution_count": null,
   "id": "40661ebe-3729-4b1c-af2f-f4626c23ee57",
   "metadata": {},
   "outputs": [],
   "source": [
    "def plot_profile(llp, t=0, y=0, x=0, s=0, kwargs=[], plkwargs={}):\n",
    "    #\n",
    "    #\n",
    "    # Check inputs\n",
    "    if (len(kwargs)!=len(llp)):\n",
    "        ikwargs = [{},] * len(llp)\n",
    "    else:\n",
    "        ikwargs = cp(kwargs)\n",
    "    #\n",
    "    #\n",
    "    pl.figure(**plkwargs)\n",
    "    # Loop through profiles and plot kwargs\n",
    "    for i,j in zip(llp, ikwargs):\n",
    "        ww = np.where(i.weights[:,s]<2)\n",
    "        pl.plot(ww[0], i.dat[t,y,x,ww[0],s], **j)\n",
    "    #\n",
    "    #\n",
    "    # End plot:\n",
    "    for i in ikwargs:\n",
    "        if (\"label\" in i):\n",
    "            pl.legend()\n",
    "    pl.tight_layout()"
   ]
  },
  {
   "cell_type": "code",
   "execution_count": null,
   "id": "bce16e7e-0608-4e94-8c31-5c3ea313855d",
   "metadata": {},
   "outputs": [],
   "source": [
    "def plot_model(llm, t=0, y=0, x=0, mpars=[\"temp\", \"vlos\", \"vturb\", \"Bln\", \"Bho\", \"azi\"], kwargs=[], plkwargs={}):\n",
    "    #\n",
    "    #\n",
    "    mnames = {\"temp\":\"T\", \"vlos\":r\"v$_{\\rm LOS}$\", \"vturb\":r\"v$_{\\rm turb}$\", \"Bln\":r\"B$_{\\parallel}$\", \"Bho\":r\"B$_{\\perp}$\", \"azi\":r\"B$_{\\phi}$\"}\n",
    "    munits = {\"temp\":\"kK\", \"vlos\":\"km/s\", \"vturb\":\"km/s\", \"Bln\":\"G\", \"Bho\":\"G\", \"azi\":\"rd\"}\n",
    "    mfactors = {\"temp\":1.e-3, \"vlos\":1.e-5, \"vturb\":1.e-5, \"Bln\":1, \"Bho\":1, \"azi\":1}\n",
    "    #\n",
    "    # Check inputs\n",
    "    if (len(kwargs)!=len(llm)):\n",
    "        ikwargs = [{},] * len(llm)\n",
    "    else:\n",
    "        ikwargs = cp(kwargs)\n",
    "    #\n",
    "    #\n",
    "    npars = len(mpars)\n",
    "    ncols = np.ceil(np.sqrt(npars)).astype(\"i2\")\n",
    "    nrows = np.ceil(npars/ncols).astype(\"i2\")\n",
    "    fg, ax = pl.subplots(ncols=ncols, nrows=nrows, sharex=True, **plkwargs)\n",
    "    # Loop through model parameters and models and plot kwargs\n",
    "    for lcp, lip in enumerate(mpars):\n",
    "        for i,j in zip(llm, ikwargs):\n",
    "            ax.flat[lcp].plot(i.ltau[t,y,x,:], getattr(i, lip)[t,y,x,:] * mfactors[lip], **j)\n",
    "    #\n",
    "    #\n",
    "    # End plot:\n",
    "    for lcp, lip in enumerate(mpars):\n",
    "        ax.flat[lcp].set_ylabel(r\"%s [%s]\" % (mnames[lip], munits[lip],))\n",
    "    for i in ikwargs:\n",
    "        if (\"label\" in i):\n",
    "            pl.legend()\n",
    "            break\n",
    "    pl.tight_layout()"
   ]
  },
  {
   "cell_type": "markdown",
   "id": "6b6b7bce-7b82-4ee9-b7ae-eab389a65bc7",
   "metadata": {},
   "source": [
    "Let us assume that only data with wavelengths larger than 5000 angstrom have polarimetry and that we have achieved a SNR of 600:"
   ]
  },
  {
   "cell_type": "code",
   "execution_count": null,
   "id": "6c8c0de9-cd12-495e-94d4-22f0e3a7e5ea",
   "metadata": {},
   "outputs": [],
   "source": [
    "# Add some noise:\n",
    "snr = 600.\n",
    "nobs = cp(obs)\n",
    "rng = np.random.default_rng(seed=12345)\n",
    "nobs.dat += rng.normal(size=nobs.dat.size).reshape(*nobs.dat.shape) / snr\n",
    "ww = np.where(nobs.wav < 5000.)\n",
    "nobs.weights = nobs.weights * 0. + 1./snr\n",
    "nobs.weights[ww[0],1:] = 1.e32\n",
    "nobs.dat[:,:,:,ww[0],1:] *= 0"
   ]
  },
  {
   "cell_type": "code",
   "execution_count": null,
   "id": "65dfe606-c1d1-4908-8623-fa4b3f4639e3",
   "metadata": {},
   "outputs": [],
   "source": [
    "plot_profile([obs,nobs],s=0)"
   ]
  },
  {
   "cell_type": "markdown",
   "id": "74137a75-3277-407c-bbbd-24517e2946ab",
   "metadata": {},
   "source": [
    "Write the modified synthetic spectra to use for the inversions:"
   ]
  },
  {
   "cell_type": "code",
   "execution_count": null,
   "id": "c7d1d374-0c72-47e3-87dd-3068458a551d",
   "metadata": {},
   "outputs": [],
   "source": [
    "nobs.write(\"./observed.nc\")"
   ]
  },
  {
   "cell_type": "markdown",
   "id": "d91ea960-2e09-4627-88ac-04b93e051433",
   "metadata": {},
   "source": [
    "For the stokes inversion we need to provide an initial guess for the model atmosphere. Let us generate a 'reasonable' model:"
   ]
  },
  {
   "cell_type": "code",
   "execution_count": null,
   "id": "72fe3fd3-dd30-49d6-86c0-3ca0f265123b",
   "metadata": {},
   "outputs": [],
   "source": [
    "# Init the input model, all quantities in CGS units!\n",
    "# First create a tau scale\n",
    "taumin = -7.8\n",
    "taumax= 1.0\n",
    "dtau = 0.1\n",
    "ntau = int((taumax-taumin)/dtau) + 1\n",
    "tau = np.arange(ntau, dtype='float64')/(ntau-1.0) * (taumax-taumin) + taumin\n",
    "# Now create a smooth temperature profile\n",
    "temp = np.interp(tau, np.asarray([-8.0, -6.0, -4.0, -2.0 , 0.8]), np.asarray([70000., 8000., 4000., 4800., 7000.]))\n",
    "# Fill in the model\n",
    "m = sp.model(nx=1, ny=1, nt=1, ndep=ntau)\n",
    "m.ltau[0,0,0,:] = tau\n",
    "m.temp[0,0,0,:] = temp\n",
    "# The inversion only needs to know the gas pressure at the upper boundary. FALC has Pgas[top] ~ 0.3, but\n",
    "# this value is for quiet-Sun. Active regions can have up to Pgas[top] = 10.\n",
    "m.pgas[0,0,0,:] = 1.0\n",
    "# Fill in initial B field and velovity (optional)\n",
    "m.vturb[0,0,0,:] = 1.e5\n",
    "m.vlos[0,0,0,:] = 0.5e5 # cm/s\n",
    "m.Bln[0,0,0,:] = 300.\n",
    "m.Bho[0,0,0,:] = 650.\n",
    "m.azi[0,0,0,:] = 100. * 3.14159 / 180.\n",
    "# Write to HD\n",
    "m.write('modelin.nc')\n"
   ]
  },
  {
   "cell_type": "markdown",
   "id": "e2422add-2dc2-4bb7-bace-a3502b449e3b",
   "metadata": {},
   "source": [
    "For reference, let us start with the inversion in LTE:"
   ]
  },
  {
   "cell_type": "code",
   "execution_count": null,
   "id": "0ab143a2-1dbd-4a39-96a8-b1c0ee365431",
   "metadata": {
    "scrolled": true
   },
   "outputs": [],
   "source": [
    "!ln -vfs input_lte.cfg input.cfg"
   ]
  },
  {
   "cell_type": "code",
   "execution_count": null,
   "id": "e2fe2099-08ff-46e7-aaa2-c70501d9bb72",
   "metadata": {},
   "outputs": [],
   "source": [
    "!mpirun -n 2 ./STiC.x"
   ]
  },
  {
   "cell_type": "markdown",
   "id": "1c484041-a28f-45aa-98f5-9bf65ebfbf64",
   "metadata": {},
   "source": [
    "Now, let us consider the case of a NLTE inversion but in CRD:"
   ]
  },
  {
   "cell_type": "code",
   "execution_count": null,
   "id": "8a6f4b1b-c28e-44d1-8786-11b86820208d",
   "metadata": {},
   "outputs": [],
   "source": [
    "!ln -vfs input_crd.cfg input.cfg"
   ]
  },
  {
   "cell_type": "code",
   "execution_count": null,
   "id": "9bec7538-911f-40be-8a3d-a77c1584f0c3",
   "metadata": {},
   "outputs": [],
   "source": [
    "!ln -vfs keyword_crd.input keyword.input"
   ]
  },
  {
   "cell_type": "code",
   "execution_count": null,
   "id": "f3674cbc-6275-4996-8fab-6ebf08c32470",
   "metadata": {},
   "outputs": [],
   "source": [
    "!mpirun -n 2 ./STiC.x"
   ]
  },
  {
   "cell_type": "markdown",
   "id": "4cf9e8c1-e051-48fb-8284-27ad5a0a37f0",
   "metadata": {},
   "source": [
    "Finally, let us consider the inversion of NLTE with PRD in a 1D approach, which is the model with the most physics that STiC can handle in the inversion"
   ]
  },
  {
   "cell_type": "code",
   "execution_count": null,
   "id": "b956a382-ec7b-4592-8578-cda48828c7b8",
   "metadata": {},
   "outputs": [],
   "source": [
    "!ln -vfs input_prd.cfg input.cfg"
   ]
  },
  {
   "cell_type": "code",
   "execution_count": null,
   "id": "14c566f5-ca01-459e-9a35-0bcdcb6cecb8",
   "metadata": {},
   "outputs": [],
   "source": [
    "!ln -vfs keyword_prd.input keyword.input"
   ]
  },
  {
   "cell_type": "code",
   "execution_count": null,
   "id": "466eb25e-46b3-4fc1-9528-4f20d2b7e4b4",
   "metadata": {},
   "outputs": [],
   "source": [
    "!mpirun -n 2 ./STiC.x"
   ]
  },
  {
   "cell_type": "code",
   "execution_count": null,
   "id": "5cd39b17-0382-4293-8075-914b6f97c782",
   "metadata": {},
   "outputs": [],
   "source": []
  },
  {
   "cell_type": "code",
   "execution_count": null,
   "id": "3d21be57-13e9-4812-9efc-a80f22c0d9da",
   "metadata": {},
   "outputs": [],
   "source": []
  },
  {
   "cell_type": "code",
   "execution_count": null,
   "id": "e675bc86-9e71-46d4-a670-e212b3e29c90",
   "metadata": {},
   "outputs": [],
   "source": []
  },
  {
   "cell_type": "markdown",
   "id": "ad327759-c493-4916-8bb1-10d8180b6f0d",
   "metadata": {},
   "source": []
  },
  {
   "cell_type": "code",
   "execution_count": null,
   "id": "189f21cd-6c44-41c7-95bc-41feb008f7ea",
   "metadata": {},
   "outputs": [],
   "source": [
    "nlteprd_prof = sp.profile(\"./synthetic_cycle1_prd.nc\")\n",
    "nltecrd_prof = sp.profile(\"./synthetic_cycle1_crd.nc\")\n",
    "lte_prof = sp.profile(\"./synthetic_cycle1_lte.nc\")\n"
   ]
  },
  {
   "cell_type": "code",
   "execution_count": null,
   "id": "ce58df60-d211-416b-b817-5365fca50fbe",
   "metadata": {},
   "outputs": [],
   "source": [
    "plot_profile([nobs,lte_prof,nltecrd_prof,nlteprd_prof]\n",
    "             , kwargs=[{\"label\":\"Obs\",\"ls\":\"none\",\"marker\":\"o\"}, {\"label\":\"LTE\"}, {\"label\":\"CRD\"}, {\"label\":\"PRD\"},]\n",
    "             , plkwargs={\"figsize\":(14,8)})"
   ]
  },
  {
   "cell_type": "code",
   "execution_count": null,
   "id": "bc52a6b7-faff-40df-8f79-a8af5d1d302d",
   "metadata": {},
   "outputs": [],
   "source": [
    "plot_profile([nobs,lte_prof,nltecrd_prof,nlteprd_prof]\n",
    "             , kwargs=[{\"label\":\"Obs\",\"ls\":\"none\",\"marker\":\"o\"}, {\"label\":\"LTE\"}, {\"label\":\"CRD\"}, {\"label\":\"PRD\"},]\n",
    "             , plkwargs={\"figsize\":(14,8)},s=3)"
   ]
  },
  {
   "cell_type": "code",
   "execution_count": null,
   "id": "01c94a7d-b28f-4391-a7ee-57d28dbf4a01",
   "metadata": {},
   "outputs": [],
   "source": [
    "plot_profile([nobs,lte_prof,nltecrd_prof,nlteprd_prof]\n",
    "             , kwargs=[{\"label\":\"Obs\",\"ls\":\"none\",\"marker\":\"o\"}, {\"label\":\"LTE\"}, {\"label\":\"CRD\"}, {\"label\":\"PRD\"},]\n",
    "             , plkwargs={\"figsize\":(14,8)},s=1)"
   ]
  },
  {
   "cell_type": "code",
   "execution_count": null,
   "id": "632709e2-9a24-4762-8b28-51f77b19e192",
   "metadata": {},
   "outputs": [],
   "source": [
    "plot_profile([nobs,lte_prof,nltecrd_prof,nlteprd_prof]\n",
    "             , kwargs=[{\"label\":\"Obs\",\"ls\":\"none\",\"marker\":\"o\"}, {\"label\":\"LTE\"}, {\"label\":\"CRD\"}, {\"label\":\"PRD\"},]\n",
    "             , plkwargs={\"figsize\":(14,8)},s=2)"
   ]
  },
  {
   "cell_type": "markdown",
   "id": "647228f6-42f1-45b6-8fd4-e8f453e19e11",
   "metadata": {},
   "source": [
    "We can now compare the models we get in the various inversions to the reference one:"
   ]
  },
  {
   "cell_type": "code",
   "execution_count": null,
   "id": "a246f23d-461c-4a0b-ad7d-500fbc249053",
   "metadata": {},
   "outputs": [],
   "source": [
    "m_ref = sp.model(\"./infalc_model.nc\")\n",
    "m_lte = sp.model(\"./atmosout_cycle1_lte.nc\")\n",
    "m_crd = sp.model(\"./atmosout_cycle1_crd.nc\")\n",
    "m_prd = sp.model(\"./atmosout_cycle1_prd.nc\")"
   ]
  },
  {
   "cell_type": "code",
   "execution_count": null,
   "id": "77e26357-ccd3-40c1-bf45-08da471c31b3",
   "metadata": {},
   "outputs": [],
   "source": [
    "plot_model([m_ref, m_lte,m_crd, m_prd]\n",
    "           , kwargs=[{\"label\":\"REF\"},{\"label\":\"LTE\"},{\"label\":\"CRD\"},{\"label\":\"PRD\"}]\n",
    "           , plkwargs={\"figsize\":(14,8)})"
   ]
  },
  {
   "cell_type": "markdown",
   "id": "0cde8f1e-0ab4-4cea-ae3f-9988494d5c8e",
   "metadata": {},
   "source": [
    "However, the data we have used for the inversion does not necessarily probe the whole atmosphere we have included in the atmosphere model we feed the inversion with. One possibility to address this issue is to use the response functions (REFERENCES!!!), which can be calculated using STiC:"
   ]
  },
  {
   "cell_type": "code",
   "execution_count": null,
   "id": "45690a80-17a4-4314-ad76-4d9b5eb54045",
   "metadata": {},
   "outputs": [],
   "source": [
    "!ln -vfs input_lte_rf.cfg input.cfg"
   ]
  },
  {
   "cell_type": "code",
   "execution_count": null,
   "id": "1142d31c-e3b7-4c63-806f-3787f4e982da",
   "metadata": {},
   "outputs": [],
   "source": [
    "!mpirun -n 2 ./STiC.x"
   ]
  },
  {
   "cell_type": "code",
   "execution_count": null,
   "id": "b921fcd0-2619-4148-a578-7cc665485b83",
   "metadata": {},
   "outputs": [],
   "source": []
  },
  {
   "cell_type": "code",
   "execution_count": null,
   "id": "d48eebe7-b63c-4d5f-b288-c6f6f40a657a",
   "metadata": {
    "scrolled": true
   },
   "outputs": [],
   "source": [
    "!ln -vfs input_crd_rf.cfg input.cfg"
   ]
  },
  {
   "cell_type": "code",
   "execution_count": null,
   "id": "183b5440-3b61-416d-ab41-8d628a511ad8",
   "metadata": {},
   "outputs": [],
   "source": [
    "!ln -vfs keyword_crd.input keyword.input"
   ]
  },
  {
   "cell_type": "code",
   "execution_count": null,
   "id": "a0c8c1bf-3e07-4590-8638-d37eae3499ca",
   "metadata": {},
   "outputs": [],
   "source": [
    "!mpirun -n 2 ./STiC.x"
   ]
  },
  {
   "cell_type": "code",
   "execution_count": null,
   "id": "6902be2a-1ec7-443a-8358-2cc3f0e69247",
   "metadata": {},
   "outputs": [],
   "source": []
  },
  {
   "cell_type": "code",
   "execution_count": null,
   "id": "e9e80b87-096e-473e-a0ea-98ee5a56ec46",
   "metadata": {},
   "outputs": [],
   "source": []
  },
  {
   "cell_type": "code",
   "execution_count": null,
   "id": "85524546-bb0f-4f5f-93d7-5f0e28f9a393",
   "metadata": {},
   "outputs": [],
   "source": [
    "!ln -vfs input_prd_rf.cfg input.cfg"
   ]
  },
  {
   "cell_type": "code",
   "execution_count": null,
   "id": "94eec224-8032-4bec-955f-4f4c936006b5",
   "metadata": {},
   "outputs": [],
   "source": [
    "!ln -vfs keyword_prd.input keyword.input"
   ]
  },
  {
   "cell_type": "code",
   "execution_count": null,
   "id": "40451520-0ccc-4800-a2cc-285a67e9a337",
   "metadata": {
    "scrolled": true
   },
   "outputs": [],
   "source": [
    "!mpirun -n 2 ./STiC.x"
   ]
  },
  {
   "cell_type": "code",
   "execution_count": null,
   "id": "037d22e9-e91a-42b2-9b0b-67fab68adedd",
   "metadata": {},
   "outputs": [],
   "source": []
  },
  {
   "cell_type": "code",
   "execution_count": null,
   "id": "a127d415-a928-4494-af02-dd4c36bb3f9b",
   "metadata": {},
   "outputs": [],
   "source": [
    "tt = sp.profile(\"synthetic_cycle1_prd_rf.nc\")"
   ]
  },
  {
   "cell_type": "code",
   "execution_count": null,
   "id": "3111b3ee-477c-431f-a972-eba5f50fe43e",
   "metadata": {},
   "outputs": [],
   "source": [
    "pl.figure(figsize=(14,8))\n",
    "im = pl.imshow(tt.rf[0,0,0,0,:,:,0], origin='lower', vmax=0.00005, cmap=\"Spectral\", interpolation=\"none\")\n",
    "cbar = pl.colorbar(im)"
   ]
  },
  {
   "cell_type": "code",
   "execution_count": null,
   "id": "97240b97-be08-45ee-8ee7-7ecfb5c7bce9",
   "metadata": {},
   "outputs": [],
   "source": []
  },
  {
   "cell_type": "code",
   "execution_count": null,
   "id": "a2514f10-5686-4210-b3b6-4292c07b8e41",
   "metadata": {},
   "outputs": [],
   "source": []
  },
  {
   "cell_type": "code",
   "execution_count": null,
   "id": "56db87bd-d7b1-4418-99d9-27ecb30ccf2f",
   "metadata": {},
   "outputs": [],
   "source": []
  },
  {
   "cell_type": "code",
   "execution_count": null,
   "id": "d522766f-275b-499e-addc-ff3b54f491e2",
   "metadata": {},
   "outputs": [],
   "source": []
  },
  {
   "cell_type": "code",
   "execution_count": null,
   "id": "bdcd1b68-20e3-47d1-930c-fe08164029f6",
   "metadata": {},
   "outputs": [],
   "source": []
  },
  {
   "cell_type": "code",
   "execution_count": null,
   "id": "2c901cc8-bc20-4a08-8b51-d6802930b51b",
   "metadata": {},
   "outputs": [],
   "source": []
  },
  {
   "cell_type": "code",
   "execution_count": null,
   "id": "e981ba92-50d0-48f7-8fdd-4e713cc20837",
   "metadata": {},
   "outputs": [],
   "source": []
  },
  {
   "cell_type": "code",
   "execution_count": null,
   "id": "fec4d9d2-cf91-4e30-bff7-40326c0f973b",
   "metadata": {},
   "outputs": [],
   "source": []
  },
  {
   "cell_type": "code",
   "execution_count": null,
   "id": "4ec5207f-507f-47d0-bd5b-c873f1a7112e",
   "metadata": {},
   "outputs": [],
   "source": []
  }
 ],
 "metadata": {
  "kernelspec": {
   "display_name": "Python 3 (ipykernel)",
   "language": "python",
   "name": "python3"
  },
  "language_info": {
   "codemirror_mode": {
    "name": "ipython",
    "version": 3
   },
   "file_extension": ".py",
   "mimetype": "text/x-python",
   "name": "python",
   "nbconvert_exporter": "python",
   "pygments_lexer": "ipython3",
   "version": "3.12.3"
  }
 },
 "nbformat": 4,
 "nbformat_minor": 5
}
