{
 "cells": [
  {
   "cell_type": "markdown",
   "id": "9ca0f8ff-2124-4b17-82f3-ab50f334f42f",
   "metadata": {},
   "source": [
    "Import some standard (numpy, matplotlib, and deepcopy) modules and the python library for STiC:"
   ]
  },
  {
   "cell_type": "code",
   "execution_count": 5,
   "id": "dd5fe3d4-b447-4591-9f89-4f70a7458635",
   "metadata": {},
   "outputs": [],
   "source": [
    "import sparsetools as sp\n",
    "import numpy as np\n",
    "import matplotlib.pyplot as pl\n",
    "%matplotlib inline\n",
    "from copy import deepcopy as cp"
   ]
  },
  {
   "cell_type": "markdown",
   "id": "c7bd32e1-e9a7-4e9b-8d1a-2bae2c162662",
   "metadata": {},
   "source": [
    "Define some functions to plot profiles, models and response functions:"
   ]
  },
  {
   "cell_type": "code",
   "execution_count": 6,
   "id": "7a672358-168b-4d91-8366-bb395173d154",
   "metadata": {},
   "outputs": [],
   "source": [
    "def plot_profile(llp, t=0, y=0, x=0, s=0, kwargs=[], plkwargs={}):\n",
    "    #\n",
    "    #\n",
    "    # Check inputs\n",
    "    if (len(kwargs)!=len(llp)):\n",
    "        ikwargs = [{},] * len(llp)\n",
    "    else:\n",
    "        ikwargs = cp(kwargs)\n",
    "    #\n",
    "    #\n",
    "    ncols = len(llp[0].splitRegions())\n",
    "    nrows = 1#np.ceil(npars/ncols).astype(\"i2\")\n",
    "\n",
    "    toadd_xlabel=1\n",
    "    fg, ax = pl.subplots(ncols = ncols, nrows=nrows, sharey=1, **plkwargs)\n",
    "    # Loop through profiles and plot kwargs\n",
    "    labs = []\n",
    "    for i,j in zip(llp, ikwargs):\n",
    "        cnt=-1\n",
    "        for k in i.splitRegions():\n",
    "            cnt+=1\n",
    "            ww = np.where(k.weights[:,s]<2)\n",
    "            labs.append(ax.flat[cnt].plot(k.wav[ww[0]]-k.wav.mean(), k.dat[t,y,x,ww[0],s], **j))\n",
    "            if (toadd_xlabel):\n",
    "                ax.flat[cnt].set_xlabel(r\"$\\lambda-%.5f$\" % (k.wav.mean(),))\n",
    "        if (toadd_xlabel):\n",
    "            toadd_xlabel=0\n",
    "            \n",
    "    #\n",
    "    #\n",
    "    # End plot:\n",
    "    for i in ikwargs:\n",
    "        if (\"label\" in i):\n",
    "            lines_labels = [ax.flat[0].get_legend_handles_labels(),]\n",
    "            lines, labels = [sum(i, []) for i in zip(*lines_labels)]\n",
    "            fg.legend(lines, labels, loc=\"upper center\", ncol=len(llp))\n",
    "    fg.tight_layout()"
   ]
  },
  {
   "cell_type": "code",
   "execution_count": 7,
   "id": "b2dd064b-93cc-4050-b1d1-a1e5551fb4d7",
   "metadata": {},
   "outputs": [],
   "source": [
    "def plot_model(llm, t=0, y=0, x=0, mpars=[\"temp\", \"vlos\", \"vturb\", \"Bln\", \"Bho\", \"azi\"], kwargs=[], plkwargs={}, rfs=None):\n",
    "    #\n",
    "    #\n",
    "    mnames = {\"temp\":\"T\", \"vlos\":r\"v$_{\\rm LOS}$\", \"vturb\":r\"v$_{\\rm turb}$\", \"Bln\":r\"B$_{\\parallel}$\", \"Bho\":r\"B$_{\\perp}$\", \"azi\":r\"B$_{\\phi}$\"}\n",
    "    munits = {\"temp\":\"kK\", \"vlos\":\"km/s\", \"vturb\":\"km/s\", \"Bln\":\"G\", \"Bho\":\"G\", \"azi\":\"rd\"}\n",
    "    mfactors = {\"temp\":1.e-3, \"vlos\":1.e-5, \"vturb\":1.e-5, \"Bln\":1, \"Bho\":1, \"azi\":1}\n",
    "    vmaxs = {\"temp\":12.5, \"vlos\":3, \"vturb\":5, \"Bln\":600, \"Bho\":1000, \"azi\":np.pi}\n",
    "    vmins = {\"temp\":2.5, \"vlos\":-3, \"vturb\":0, \"Bln\":200, \"Bho\":0, \"azi\":0}\n",
    "\n",
    "    dpar = {\"temp\":0, \"vlos\":1, \"vturb\":2, \"Bln\":3, \"Bho\":4, \"azi\":5}\n",
    "    #\n",
    "    # Check inputs\n",
    "    if (len(kwargs)!=len(llm)):\n",
    "        ikwargs = [{},] * len(llm)\n",
    "    else:\n",
    "        ikwargs = cp(kwargs)\n",
    "    #\n",
    "    plot_rf = False\n",
    "    if (type(rfs)!=type(None)):\n",
    "        assert type(rfs)==list\n",
    "        assert len(rfs)==len(llm)\n",
    "        plot_rf = True\n",
    "    #\n",
    "    npars = len(mpars)\n",
    "    ncols = np.ceil(np.sqrt(npars)).astype(\"i2\")\n",
    "    nrows = np.ceil(npars/ncols).astype(\"i2\")\n",
    "    fg, ax = pl.subplots(ncols=ncols, nrows=nrows, sharex=True, **plkwargs)\n",
    "    # Loop through model parameters and models and plot kwargs\n",
    "    for lcp, lip in enumerate(mpars):\n",
    "        cnt = -1\n",
    "        for i,j in zip(llm, ikwargs):\n",
    "            cnt+=1\n",
    "            tmp = ax.flat[lcp].plot(i.ltau[t,y,x,:], getattr(i, lip)[t,y,x,:] * mfactors[lip], **j)\n",
    "            if (plot_rf):\n",
    "                if (type(rfs[cnt])!=type(None)):\n",
    "                    #tadd = 1./np.abs(rfs[cnt].rf[t,y,x,dpar[lip],:,:,:]).sum((1,2))*np.sum(rfs[cnt].weights<1.e1)/600.\n",
    "                    tadd = 1./np.abs(rfs[cnt].rf[t,y,x,dpar[lip],:,:,:]).sum((1,2))*10./600.\n",
    "\n",
    "                    ax.flat[lcp].fill_between(i.ltau[t,y,x,:]\n",
    "                                              , (getattr(i, lip)[t,y,x,:]-tadd) * mfactors[lip]\n",
    "                                              , (getattr(i, lip)[t,y,x,:]+tadd) * mfactors[lip]\n",
    "                                              , alpha=0.3, color=tmp[0].get_color())\n",
    "    #\n",
    "    #\n",
    "    # End plot:\n",
    "    for lcp, lip in enumerate(mpars):\n",
    "        ax.flat[lcp].set_ylabel(r\"%s [%s]\" % (mnames[lip], munits[lip],))\n",
    "        ax.flat[lcp].set_ylim(vmins[lip], vmaxs[lip])\n",
    "    for i in ikwargs:\n",
    "        if (\"label\" in i):\n",
    "            pl.legend()\n",
    "            break\n",
    "    pl.tight_layout()"
   ]
  },
  {
   "cell_type": "code",
   "execution_count": 8,
   "id": "33f5aae3-ec4f-4949-9802-ca24647eaf67",
   "metadata": {},
   "outputs": [],
   "source": [
    "def plot_rf(llp, par, t=0, y=0, x=0, s=0, kwargs=[], plkwargs={}, yaxis=None):\n",
    "    #\n",
    "    #\n",
    "    # Check inputs\n",
    "    if (len(kwargs)!=len(llp)):\n",
    "        ikwargs = [{},] * len(llp)\n",
    "    else:\n",
    "        ikwargs = cp(kwargs)\n",
    "    #\n",
    "    dpar = {\"temp\":0, \"vlos\":1, \"vturb\":2, \"Bln\":3, \"Bho\":4, \"azi\":5}\n",
    "    #\n",
    "    ncols = len(llp[0].splitRegions())\n",
    "    nrows = len(llp)#np.ceil(npars/ncols).astype(\"i2\")\n",
    "\n",
    "    if (type(yaxis)==type(None)):\n",
    "        ya = [0, llp[0].rf.shape[4]-1]\n",
    "    else:\n",
    "        ya = cp(yaxis)\n",
    "    toadd_xlabel=1\n",
    "    fg, ax = pl.subplots(ncols = ncols, nrows=nrows, sharey=1, **plkwargs)\n",
    "    # Loop through profiles and plot kwargs\n",
    "    for i,j in zip(llp, ikwargs):\n",
    "        cnt=-1\n",
    "        vmin, vmax = np.nanpercentile(i.rf[t,y,x,dpar[par],:,:,s].flatten(), [1,99])\n",
    "        vval = np.max([np.abs([vmin, vmax])])\n",
    "        vmin = -vval\n",
    "        vmax = vval\n",
    "        for k in i.splitRegions():\n",
    "            cnt+=1\n",
    "            xw = k.wav-k.wav.mean()\n",
    "            ax.flat[cnt].imshow(k.rf[t,y,x,dpar[par],:,:,s], origin='lower', vmax=vmax, vmin=vmin, cmap=\"PuOr\", interpolation=\"nearest\", aspect=\"auto\", extent=[xw[0],xw[-1],ya[0],ya[-1]])\n",
    "\n",
    "            \n",
    "            if (toadd_xlabel):\n",
    "                ax.flat[cnt].set_xlabel(r\"$\\lambda-%.5f$\" % (k.wav.mean(),))\n",
    "        if (toadd_xlabel):\n",
    "            toadd_xlabel=0\n",
    "            \n",
    "    #\n",
    "    #\n",
    "    # End plot:\n",
    "    for i in ikwargs:\n",
    "        if (\"label\" in i):\n",
    "            fg.legend()\n",
    "    fg.tight_layout()"
   ]
  },
  {
   "cell_type": "markdown",
   "id": "d8ed6a3f-d625-49c9-96be-ea014c110751",
   "metadata": {},
   "source": [
    "Synthesize the Stokes spectra in 1D NLTE PRD of an MHD simulation (BIFROST, downloaded from [uio_site](https://sdc.uio.no/search/simulations)). It comes from the snapshot 463 of the enhanced network simulation ([Carlsson et al. 2016](https://ui.adsabs.harvard.edu/abs/2016A%26A...585A...4C/abstract), [Gudiksen et al 2011](https://ui.adsabs.harvard.edu/abs/2011A%26A...531A.154G/abstract)).\n",
    "\n",
    "I have pre-selected a tiny FOV (field of view, with file name: \"bifrost_model_small.nc\") so that we can run the following part during the course. In addition we will use just one or two continuum points using an EOS (equation of state) in LTE (local thermodynamic equilibrium).\n",
    "\n",
    "To do so, we have to edit/check:\n",
    "\n",
    "    input.cfg\n",
    "        mode, depth_t, atmosphere_type, input_model, output_profiles (= synthetic_cycle0.nc), output_atmos (= atmosout_cycle0.nc)\n",
    "\n"
   ]
  },
  {
   "cell_type": "code",
   "execution_count": null,
   "id": "0430822d-1b69-4867-9af7-476505b9c0ad",
   "metadata": {},
   "outputs": [],
   "source": []
  },
  {
   "cell_type": "code",
   "execution_count": 9,
   "id": "213cf264-01b8-45d2-a15d-5724e660fe2c",
   "metadata": {},
   "outputs": [
    {
     "name": "stdout",
     "output_type": "stream",
     "text": [
      "'input.cfg' -> 'input_synthesis_selectpixel.cfg'\n",
      "'keyword.input' -> 'keyword_prd.input'\n"
     ]
    }
   ],
   "source": [
    "!ln -vfs input_synthesis_selectpixel.cfg input.cfg\n",
    "!ln -vfs keyword_prd.input keyword.input"
   ]
  },
  {
   "cell_type": "markdown",
   "id": "9ab5c8a0-baac-4536-a87b-5897dffb9c21",
   "metadata": {},
   "source": [
    "The following takes ~ 2 minutes."
   ]
  },
  {
   "cell_type": "code",
   "execution_count": 3,
   "id": "c3e67be7",
   "metadata": {},
   "outputs": [
    {
     "name": "stdout",
     "output_type": "stream",
     "text": [
      "\n",
      "   SSSSSSSSSSSSSSS TTTTTTTTTTTTTTTTTTTTTTT  iiii         CCCCCCCCCCCCC\n",
      " SS:::::::::::::::ST:::::::::::::::::::::T i::::i     CCC::::::::::::C\n",
      "S:::::SSSSSS::::::ST:::::::::::::::::::::T  iiii    CC:::::::::::::::C\n",
      "S:::::S     SSSSSSST:::::TT:::::::TT:::::T         C:::::CCCCCCCC::::C\n",
      "S:::::S            TTTTTT  T:::::T  TTTTTTiiiiiii C:::::C       CCCCCC\n",
      "S:::::S                    T:::::T        i:::::iC:::::C              \n",
      " S::::SSSS                 T:::::T         i::::iC:::::C              \n",
      "  SS::::::SSSSS            T:::::T         i::::iC:::::C              \n",
      "    SSS::::::::SS          T:::::T         i::::iC:::::C              \n",
      "       SSSSSS::::S         T:::::T         i::::iC:::::C              \n",
      "            S:::::S        T:::::T         i::::iC:::::C              \n",
      "            S:::::S        T:::::T         i::::i C:::::C       CCCCCC\n",
      "SSSSSSS     S:::::S      TT:::::::TT      i::::::i C:::::CCCCCCCC::::C\n",
      "S::::::SSSSSS:::::S      T:::::::::T      i::::::i  CC:::::::::::::::C\n",
      "S:::::::::::::::SS       T:::::::::T      i::::::i    CCC::::::::::::C\n",
      " SSSSSSSSSSSSSSS         TTTTTTTTTTT      iiiiiiii       CCCCCCCCCCCCC\n",
      "\n",
      "STIC: Initialized with 3 process(es)\n",
      "read_input: ignoring line: # I/O options and observation details\n",
      "read_input: input_model -> bifrost_model_small.nc\n",
      "read_input: ignoring line: #input_profiles = observed.nc\n",
      "read_input: output_profiles -> synthetic_cycle0.nc\n",
      "read_input: output_atmos -> atmosout_cycle0.nc\n",
      "read_input: abundance_file -> Atoms/abundance.input\n",
      "read_input: mu -> 1.0\n",
      "read_input: ignoring line: # Some inversion stuff: Mode 1 is invert pixel to pixel, mode 2 is synthesis, mode 3\n",
      "read_input: ignoring line: # is sparse inversion (broken at the moment)\n",
      "read_input: mpi_pack -> 1\n",
      "read_input: mode -> 2\n",
      "read_input: synthesize_lte_eos -> 1\n",
      "read_input: ignoring line: use_eos = 1\n",
      "read_input: master_threads -> 1\n",
      "read_input: recompute_hydro -> 0\n",
      "read_input: ignoring line: # Type of atmosphere: rh or lte\n",
      "read_input: ignoring line: #atmosphere_type = rh\n",
      "read_input: atmosphere_type -> lte\n",
      "read_input: ignoring line: #lines = all\n",
      "read_input: instrument -> none\n",
      "read_input: ignoring line: # Regions information, they will be appended one after the other \n",
      " >>>>>>>>>>>>>> none\n",
      " >>>>>>>>>>>>>> none\n",
      " >>>>>>>>>>>>>> none\n",
      " >>>>>>>>>>>>>> none\n",
      " >>>>>>>>>>>>>> none\n",
      "read_input: region -> 4000.00000,0.03913,1,2.34669e-05,none,none\n",
      "read_input: ignoring line: # depth_type: use 0 for log_tau or 1 for log_cmass. In synthesis mode we can use also \"2\" for \"z\".\n",
      "read_input: depth_t -> 2\n",
      "read_input: ignoring line: # Set this to false if you are running big runs\n",
      "read_input: verbose -> 0\n",
      " SYNTHESIS WARNING!\n",
      " SYNTHESIS WARNING!\n",
      " SYNTHESIS WARNING!\n",
      " SYNTHESIS WARNING!\n",
      " SYNTHESIS WARNING!\n",
      " SYNTHESIS WARNING!\n",
      " SYNTHESIS WARNING!\n",
      " SYNTHESIS WARNING!\n",
      " SYNTHESIS WARNING!\n",
      " SYNTHESIS WARNING!\n",
      "\n",
      " In synthesis, you might want to set:\n",
      "    'synthesize_lte_eos = 0' \n",
      "\n",
      " SYNTHESIS WARNING!\n",
      " SYNTHESIS WARNING!\n",
      " SYNTHESIS WARNING!\n",
      " SYNTHESIS WARNING!\n",
      " SYNTHESIS WARNING!\n",
      " SYNTHESIS WARNING!\n",
      " SYNTHESIS WARNING!\n",
      " SYNTHESIS WARNING!\n",
      " SYNTHESIS WARNING!\n",
      " SYNTHESIS WARNING!\n",
      "io::initRead: Found 12 variables in bifrost_model_small.nc [azi, bhor, blong, cmass, ltau500, nne, pgas, rho, temp, vlos, vturb, z]\n",
      "io::initRead: Found 12 variables in bifrost_model_small.nc [azi, bhor, blong, cmass, ltau500, nne, pgas, rho, temp, vlos, vturb, z]\n",
      "io::read_Tstep: read temp (t=0) [46, 46, 130]\n",
      "io::read_Tstep: read vlos (t=0) [46, 46, 130]\n",
      "io::read_Tstep: read vturb (t=0) [46, 46, 130]\n",
      "io::read_Tstep: read blong (t=0) [46, 46, 130]\n",
      "io::read_Tstep: read bhor (t=0) [46, 46, 130]\n",
      "io::read_Tstep: read azi (t=0) [46, 46, 130]\n",
      "io::read_Tstep: read pgas (t=0) [46, 46, 130]\n",
      "io::read_Tstep: read rho (t=0) [46, 46, 130]\n",
      "io::read_Tstep: read nne (t=0) [46, 46, 130]\n",
      "mdepthall::read_model2: Bound -> 1\n",
      "io::read_Tstep: read ltau500 (t=0) [46, 46, 130]\n",
      "io::read_Tstep: read z (t=0) [46, 46, 130]\n",
      "io::read_Tstep: read cmass (t=0) [46, 46, 130]\n",
      "io::write_Tstep: writing [wav] to synthetic_cycle0.nc\n",
      "master, comm_get_buffer_size: MPI_buffer_size = 1.65479 kbytes\n",
      "master, comm_get_buffer_size: MPI_buffer_size1 = 1.65771 kbytes\n",
      "Processed -> 100%  % 24% 43% 70% \n",
      "io::write_Tstep: writing [profiles] (t=0) to synthetic_cycle0.nc\n",
      "io::write_Tstep: writing [temp] (t=0) to atmosout_cycle0.nc\n",
      "io::write_Tstep: writing [vlos] (t=0) to atmosout_cycle0.nc\n",
      "io::write_Tstep: writing [vturb] (t=0) to atmosout_cycle0.nc\n",
      "io::write_Tstep: writing [blong] (t=0) to atmosout_cycle0.nc\n",
      "io::write_Tstep: writing [bhor] (t=0) to atmosout_cycle0.nc\n",
      "io::write_Tstep: writing [azi] (t=0) to atmosout_cycle0.nc\n",
      "io::write_Tstep: writing [ltau500] (t=0) to atmosout_cycle0.nc\n",
      "io::write_Tstep: writing [z] (t=0) to atmosout_cycle0.nc\n",
      "io::write_Tstep: writing [pgas] (t=0) to atmosout_cycle0.nc\n",
      "io::write_Tstep: writing [rho] (t=0) to atmosout_cycle0.nc\n",
      "io::write_Tstep: writing [nne] (t=0) to atmosout_cycle0.nc\n",
      "io::write_Tstep: writing [cmass] (t=0) to atmosout_cycle0.nc\n",
      "io::write_Tstep: writing [transition_region_loc] (t=0) to atmosout_cycle0.nc\n",
      "io::write_Tstep: writing [transition_region_scale] (t=0) to atmosout_cycle0.nc\n",
      "io::write_Tstep: writing [transition_region_nGrid] (t=0) to atmosout_cycle0.nc\n",
      " OMP: 1 threads used out of 3 possible threads.\n",
      " \n",
      "master, comm_deactivate_workers: Deactivating workers...\n",
      " \n",
      "master, comm_deactivate_workers: Deactivating workers.\n",
      "mdepthall::setsize: [0 0 0]\n",
      "main: total elapsed time [00:01:55.845]\n"
     ]
    }
   ],
   "source": [
    "!mpirun -n 3 ./STiC.x"
   ]
  },
  {
   "cell_type": "code",
   "execution_count": 10,
   "id": "29757e4b",
   "metadata": {},
   "outputs": [
    {
     "name": "stdout",
     "output_type": "stream",
     "text": [
      "profile::setsize: nx=46, ny=46, nw=1, ns=4, nt=1\n",
      "['profiles' 'wav']\n",
      "profile::read: [profiles][wav]\n"
     ]
    }
   ],
   "source": [
    "obs = sp.profile(\"./synthetic_cycle0.nc\")"
   ]
  },
  {
   "cell_type": "code",
   "execution_count": 11,
   "id": "3bcd617a-9771-4cb9-8a47-1a4d41014af3",
   "metadata": {},
   "outputs": [
    {
     "data": {
      "image/png": "[encoded data removed]",
      "text/plain": [
       "<Figure size 640x480 with 2 Axes>"
      ]
     },
     "metadata": {},
     "output_type": "display_data"
    }
   ],
   "source": [
    "im=pl.imshow(obs.dat[0,:,:,0,0], origin='lower', cmap='gist_heat', interpolation='none')\n",
    "cbar=pl.colorbar(im)\n"
   ]
  },
  {
   "cell_type": "code",
   "execution_count": 12,
   "id": "62ae8927-fba0-4317-ad6a-aaeb710b5094",
   "metadata": {},
   "outputs": [
    {
     "data": {
      "text/plain": [
       "<matplotlib.lines.Line2D at 0x75e0e90ec830>"
      ]
     },
     "execution_count": 12,
     "metadata": {},
     "output_type": "execute_result"
    },
    {
     "data": {
      "image/png": "[encoded data removed]",
      "text/plain": [
       "<Figure size 640x480 with 2 Axes>"
      ]
     },
     "metadata": {},
     "output_type": "display_data"
    }
   ],
   "source": [
    "ix=28\n",
    "iy=26\n",
    "im=pl.imshow(obs.dat[0,:,:,0,0], origin='lower', cmap='gist_heat', interpolation='none')\n",
    "cbar=pl.colorbar(im)\n",
    "pl.axvline(ix)\n",
    "pl.axhline(iy)"
   ]
  },
  {
   "cell_type": "code",
   "execution_count": 13,
   "id": "f4a697a7-8427-4a1b-8d83-2d90281ee22e",
   "metadata": {},
   "outputs": [
    {
     "name": "stdout",
     "output_type": "stream",
     "text": [
      "model::read: atmos type -> depth-stratified\n",
      "model::read: nx=46, ny=46, ndep=130, nt=1\n",
      "model::setSize: nx = 46, ny = 46, ndep = 130, nt = 1\n",
      "model::extract: x=(28,29), y=(26,27), z=(0,130), t=(0,1)\n",
      "model::setSize: nx = 1, ny = 1, ndep = 130, nt = 1\n",
      "model::write: inbifrost_model.nc -> nx=1, ny=1, ndep=130, nt=1\n"
     ]
    }
   ],
   "source": [
    "m = sp.model(\"./bifrost_model_small.nc\")\n",
    "m1d = m.extract(x0=ix,x1=ix+1,y0=iy,y1=iy+1)\n",
    "m1d.write(\"inbifrost_model.nc\")"
   ]
  },
  {
   "cell_type": "markdown",
   "id": "578c92eb-ca6e-408c-a71a-aada5c23998a",
   "metadata": {},
   "source": [
    "\n",
    "Now that we have selected our pixel, we will again use STiC to synthesis some spectra in PRD (when applicable) and 1D NLTE. While there are numerical codes that can solve the RT (radiative transfer) with more physics (see for example [MULTI3D](https://ui.adsabs.harvard.edu/abs/2009ASPC..415...87L/abstract) or [PORTA](https://ui.adsabs.harvard.edu/abs/2013A%26A...557A.143S/abstract) ) and even though this increased physics does have an impact in some of the lines we will use (see for example [Sukhorukov, Leenaarts 2017](https://ui.adsabs.harvard.edu/abs/2017A%26A...597A..46S/abstract) or [Bjørgen et al. 2018](https://ui.adsabs.harvard.edu/abs/2018A%26A...611A..62B/abstract)), nowadays rutine NLTE inversions are only possible under a 1D approach.\n",
    "\n",
    "To do so, we have to edit/check:\n",
    "\n",
    "    input.cfg\n",
    "        mode, depth_t, atmosphere_type, input_model (= inbifrost_model), output_profiles (= stk_inbifrost_model.nc), output_atmos (= atm_inbifrost_model.nc)\n",
    "        # Regions information, they will be appended one after the other \n",
    "        region = 3932.19227,  0.03913,  76, 2.53705343e-05, fpi, 3934.nc\n",
    "        region = 8540.23102,  0.04267,  88, 4.13985635e-05, fpi, 8542.nc\n",
    "        region = 6301.24942,  0.01007,  46, 3.93137406e-05, fpi, 6302.nc\n",
    "        region = 6302.12567,  0.01007,  49, 3.93159284e-05, fpi, 6302.nc\n",
    "\n",
    "    keyword.input\n",
    "    atoms.input\n"
   ]
  },
  {
   "cell_type": "code",
   "execution_count": null,
   "id": "0d04dd91-0c79-40ee-93f9-1015b9bda345",
   "metadata": {},
   "outputs": [],
   "source": []
  },
  {
   "cell_type": "code",
   "execution_count": null,
   "id": "9271fa7d-1124-48c3-9a01-77aa98fcd698",
   "metadata": {},
   "outputs": [],
   "source": []
  },
  {
   "cell_type": "code",
   "execution_count": null,
   "id": "744ecd69-25b9-4ea4-912d-814875223090",
   "metadata": {},
   "outputs": [],
   "source": []
  },
  {
   "cell_type": "code",
   "execution_count": null,
   "id": "e8e42e7e-17fc-42ba-bf1d-aa4699994039",
   "metadata": {},
   "outputs": [],
   "source": []
  },
  {
   "cell_type": "code",
   "execution_count": 14,
   "id": "f0c76ef4-d0d3-4232-908e-3e00e7807f7c",
   "metadata": {},
   "outputs": [
    {
     "name": "stdout",
     "output_type": "stream",
     "text": [
      "'keyword.input' -> 'keyword_prd.input'\n",
      "'input.cfg' -> 'input_syn.cfg'\n"
     ]
    }
   ],
   "source": [
    "!ln -vfs keyword_prd.input keyword.input\n",
    "!ln -vfs input_syn.cfg input.cfg"
   ]
  },
  {
   "cell_type": "code",
   "execution_count": null,
   "id": "8c366da6-c7e6-46fb-9124-eb839e9520a0",
   "metadata": {},
   "outputs": [],
   "source": [
    "\n"
   ]
  },
  {
   "cell_type": "code",
   "execution_count": 15,
   "id": "ce03c7d8-3f18-4057-87f7-f9fc5aead004",
   "metadata": {},
   "outputs": [
    {
     "name": "stdout",
     "output_type": "stream",
     "text": [
      "\n",
      "   SSSSSSSSSSSSSSS TTTTTTTTTTTTTTTTTTTTTTT  iiii         CCCCCCCCCCCCC\n",
      " SS:::::::::::::::ST:::::::::::::::::::::T i::::i     CCC::::::::::::C\n",
      "S:::::SSSSSS::::::ST:::::::::::::::::::::T  iiii    CC:::::::::::::::C\n",
      "S:::::S     SSSSSSST:::::TT:::::::TT:::::T         C:::::CCCCCCCC::::C\n",
      "S:::::S            TTTTTT  T:::::T  TTTTTTiiiiiii C:::::C       CCCCCC\n",
      "S:::::S                    T:::::T        i:::::iC:::::C              \n",
      " S::::SSSS                 T:::::T         i::::iC:::::C              \n",
      "  SS::::::SSSSS            T:::::T         i::::iC:::::C              \n",
      "    SSS::::::::SS          T:::::T         i::::iC:::::C              \n",
      "       SSSSSS::::S         T:::::T         i::::iC:::::C              \n",
      "            S:::::S        T:::::T         i::::iC:::::C              \n",
      "            S:::::S        T:::::T         i::::i C:::::C       CCCCCC\n",
      "SSSSSSS     S:::::S      TT:::::::TT      i::::::i C:::::CCCCCCCC::::C\n",
      "S::::::SSSSSS:::::S      T:::::::::T      i::::::i  CC:::::::::::::::C\n",
      "S:::::::::::::::SS       T:::::::::T      i::::::i    CCC::::::::::::C\n",
      " SSSSSSSSSSSSSSS         TTTTTTTTTTT      iiiiiiii       CCCCCCCCCCCCC\n",
      "\n",
      "STIC: Initialized with 2 process(es)\n",
      "read_input: ignoring line: # I/O options and observation details\n",
      "read_input: input_model -> inbifrost_model.nc\n",
      "read_input: ignoring line: #input_profiles = observed.nc\n",
      "read_input: output_profiles -> stk_inbifrost_model.nc\n",
      "read_input: output_atmos -> atm_inbifrost_model.nc\n",
      "read_input: abundance_file -> Atoms/abundance.input\n",
      "read_input: mu -> 1.0\n",
      "read_input: ignoring line: # Some inversion stuff: Mode 1 is invert pixel to pixel, mode 2 is synthesis, mode 3\n",
      "read_input: ignoring line: # is sparse inversion (broken at the moment)\n",
      "read_input: mpi_pack -> 1\n",
      "read_input: mode -> 2\n",
      "read_input: synthesize_lte_eos -> 1\n",
      "read_input: ignoring line: use_eos = 1\n",
      "read_input: master_threads -> 1\n",
      "read_input: recompute_hydro -> 0\n",
      "read_input: ignoring line: # Type of atmosphere: rh or lte\n",
      "read_input: atmosphere_type -> rh\n",
      "read_input: ignoring line: #atmosphere_type = lte\n",
      "read_input: ignoring line: #lines = all\n",
      "read_input: instrument -> none\n",
      "read_input: ignoring line: # Regions information, they will be appended one after the other \n",
      " >>>>>>>>>>>>>> fpi\n",
      " >>>>>>>>>>>>>> fpi\n",
      " >>>>>>>>>>>>>> fpi\n",
      " >>>>>>>>>>>>>> fpi\n",
      " >>>>>>>>>>>>>> fpi\n",
      "read_input: region -> 3932.19227,0.03913,76,2.53705343e-05,fpi,3934.nc\n",
      " >>>>>>>>>>>>>> fpi\n",
      " >>>>>>>>>>>>>> fpi\n",
      " >>>>>>>>>>>>>> fpi\n",
      " >>>>>>>>>>>>>> fpi\n",
      " >>>>>>>>>>>>>> fpi\n",
      "read_input: region -> 8540.23102,0.04267,88,4.13985635e-05,fpi,8542.nc\n",
      " >>>>>>>>>>>>>> fpi\n",
      " >>>>>>>>>>>>>> fpi\n",
      " >>>>>>>>>>>>>> fpi\n",
      " >>>>>>>>>>>>>> fpi\n",
      " >>>>>>>>>>>>>> fpi\n",
      "read_input: region -> 6301.24942,0.01007,46,3.93137406e-05,fpi,6302.nc\n",
      " >>>>>>>>>>>>>> fpi\n",
      " >>>>>>>>>>>>>> fpi\n",
      " >>>>>>>>>>>>>> fpi\n",
      " >>>>>>>>>>>>>> fpi\n",
      " >>>>>>>>>>>>>> fpi\n",
      "read_input: region -> 6302.12567,0.01007,49,3.93159284e-05,fpi,6302.nc\n",
      "read_input: ignoring line: ####region = 3932.19227,  0.03913,  76, 1, none, none\n",
      "read_input: ignoring line: ####region = 8540.23102,  0.04267,  88, 1, none, none\n",
      "read_input: ignoring line: ####region = 6301.24942,  0.01007,  46, 1, none, none\n",
      "read_input: ignoring line: ####region = 6302.12567,  0.01007,  49, 1, none, none\n",
      "read_input: ignoring line: # depth_type: use 0 for log_tau or 1 for log_cmass. In synthesis mode we can use also \"2\" for \"z\".\n",
      "read_input: depth_t -> 2\n",
      "read_input: ignoring line: # Set this to false if you are running big runs\n",
      "read_input: verbose -> 0\n",
      " SYNTHESIS WARNING!\n",
      " SYNTHESIS WARNING!\n",
      " SYNTHESIS WARNING!\n",
      " SYNTHESIS WARNING!\n",
      " SYNTHESIS WARNING!\n",
      " SYNTHESIS WARNING!\n",
      " SYNTHESIS WARNING!\n",
      " SYNTHESIS WARNING!\n",
      " SYNTHESIS WARNING!\n",
      " SYNTHESIS WARNING!\n",
      "\n",
      " In synthesis, you might want to set:\n",
      "    'synthesize_lte_eos = 0' \n",
      "\n",
      " SYNTHESIS WARNING!\n",
      " SYNTHESIS WARNING!\n",
      " SYNTHESIS WARNING!\n",
      " SYNTHESIS WARNING!\n",
      " SYNTHESIS WARNING!\n",
      " SYNTHESIS WARNING!\n",
      " SYNTHESIS WARNING!\n",
      " SYNTHESIS WARNING!\n",
      " SYNTHESIS WARNING!\n",
      " SYNTHESIS WARNING!\n",
      "io::initRead: Found 12 variables in inbifrost_model.nc [azi, bhor, blong, cmass, ltau500, nne, pgas, rho, temp, vlos, vturb, z]\n",
      "io::initRead: Found 12 variables in inbifrost_model.nc [azi, bhor, blong, cmass, ltau500, nne, pgas, rho, temp, vlos, vturb, z]\n",
      "io::read_Tstep: read temp (t=0) [1, 1, 130]\n",
      "io::read_Tstep: read vlos (t=0) [1, 1, 130]\n",
      "io::read_Tstep: read vturb (t=0) [1, 1, 130]\n",
      "io::read_Tstep: read blong (t=0) [1, 1, 130]\n",
      "io::read_Tstep: read bhor (t=0) [1, 1, 130]\n",
      "io::read_Tstep: read azi (t=0) [1, 1, 130]\n",
      "io::read_Tstep: read pgas (t=0) [1, 1, 130]\n",
      "io::read_Tstep: read rho (t=0) [1, 1, 130]\n",
      "io::read_Tstep: read nne (t=0) [1, 1, 130]\n",
      "mdepthall::read_model2: Bound -> 1\n",
      "io::read_Tstep: read ltau500 (t=0) [1, 1, 130]\n",
      "io::read_Tstep: read z (t=0) [1, 1, 130]\n",
      "io::read_Tstep: read cmass (t=0) [1, 1, 130]\n",
      "io::write_Tstep: writing [wav] to stk_inbifrost_model.nc\n",
      "master, comm_get_buffer_size: MPI_buffer_size = 1.79541 kbytes\n",
      "master, comm_get_buffer_size: MPI_buffer_size1 = 2.66553 kbytes\n",
      "Processed -> 0%  \n",
      "io::write_Tstep: writing [profiles] (t=0) to stk_inbifrost_model.nc\n",
      "io::write_Tstep: writing [temp] (t=0) to atm_inbifrost_model.nc\n",
      "io::write_Tstep: writing [vlos] (t=0) to atm_inbifrost_model.nc\n",
      "io::write_Tstep: writing [vturb] (t=0) to atm_inbifrost_model.nc\n",
      "io::write_Tstep: writing [blong] (t=0) to atm_inbifrost_model.nc\n",
      "io::write_Tstep: writing [bhor] (t=0) to atm_inbifrost_model.nc\n",
      "io::write_Tstep: writing [azi] (t=0) to atm_inbifrost_model.nc\n",
      "io::write_Tstep: writing [ltau500] (t=0) to atm_inbifrost_model.nc\n",
      "io::write_Tstep: writing [z] (t=0) to atm_inbifrost_model.nc\n",
      "io::write_Tstep: writing [pgas] (t=0) to atm_inbifrost_model.nc\n",
      "io::write_Tstep: writing [rho] (t=0) to atm_inbifrost_model.nc\n",
      "io::write_Tstep: writing [nne] (t=0) to atm_inbifrost_model.nc\n",
      "io::write_Tstep: writing [cmass] (t=0) to atm_inbifrost_model.nc\n",
      "io::write_Tstep: writing [transition_region_loc] (t=0) to atm_inbifrost_model.nc\n",
      "io::write_Tstep: writing [transition_region_scale] (t=0) to atm_inbifrost_model.nc\n",
      "io::write_Tstep: writing [transition_region_nGrid] (t=0) to atm_inbifrost_model.nc\n",
      " OMP: 1 threads used out of 1 possible threads.\n",
      " \n",
      "master, comm_deactivate_workers: Deactivating workers...\n",
      " \n",
      "master, comm_deactivate_workers: Deactivating workers.\n",
      "mdepthall::setsize: [0 0 0]\n",
      "main: total elapsed time [00:00:26.469]\n"
     ]
    }
   ],
   "source": [
    "!mpirun -n 2 ./STiC.x"
   ]
  },
  {
   "cell_type": "code",
   "execution_count": null,
   "id": "205b2a84-4029-4b38-9e1a-c6b1be28f4dc",
   "metadata": {},
   "outputs": [],
   "source": []
  },
  {
   "cell_type": "code",
   "execution_count": 16,
   "id": "e6f6267a-8c76-4211-8834-8d33d3b17366",
   "metadata": {},
   "outputs": [
    {
     "name": "stdout",
     "output_type": "stream",
     "text": [
      "profile::setsize: nx=1, ny=1, nw=259, ns=4, nt=1\n",
      "['profiles' 'wav']\n",
      "profile::read: [profiles][wav]\n"
     ]
    }
   ],
   "source": [
    "obs = sp.profile(\"./stk_inbifrost_model.nc\")"
   ]
  },
  {
   "cell_type": "markdown",
   "id": "76890f60-f879-4c85-94f7-72200114d968",
   "metadata": {},
   "source": [
    "Plot them:"
   ]
  },
  {
   "cell_type": "code",
   "execution_count": null,
   "id": "bce16e7e-0608-4e94-8c31-5c3ea313855d",
   "metadata": {},
   "outputs": [],
   "source": [
    "plot_profile([obs,], s=0, plkwargs={\"figsize\":(11,6)})"
   ]
  },
  {
   "cell_type": "markdown",
   "id": "6b6b7bce-7b82-4ee9-b7ae-eab389a65bc7",
   "metadata": {},
   "source": [
    "We will simulate an observation with no polarimetry below 5000 angstrom and assuming we have achieved a SNR of 600:"
   ]
  },
  {
   "cell_type": "code",
   "execution_count": null,
   "id": "6c8c0de9-cd12-495e-94d4-22f0e3a7e5ea",
   "metadata": {},
   "outputs": [],
   "source": [
    "# Add some noise:\n",
    "snr = 600.\n",
    "nobs = cp(obs)\n",
    "rng = np.random.default_rng(seed=12345)\n",
    "nobs.dat += rng.normal(size=nobs.dat.size).reshape(*nobs.dat.shape) / snr\n",
    "ww = np.where(nobs.wav < 5000.)\n",
    "nobs.weights = nobs.weights * 0. + 1./snr\n",
    "nobs.weights[ww[0],1:] = 1.e32\n",
    "nobs.dat[:,:,:,ww[0],1:] *= 0"
   ]
  },
  {
   "cell_type": "code",
   "execution_count": null,
   "id": "65dfe606-c1d1-4908-8623-fa4b3f4639e3",
   "metadata": {},
   "outputs": [],
   "source": [
    "plot_profile([obs,nobs],s=0, plkwargs={\"figsize\":(11,6)})"
   ]
  },
  {
   "cell_type": "markdown",
   "id": "74137a75-3277-407c-bbbd-24517e2946ab",
   "metadata": {},
   "source": [
    "Write the modified synthetic spectra to use for the inversions:"
   ]
  },
  {
   "cell_type": "code",
   "execution_count": null,
   "id": "c7d1d374-0c72-47e3-87dd-3068458a551d",
   "metadata": {},
   "outputs": [],
   "source": [
    "nobs.write(\"./observed.nc\")"
   ]
  },
  {
   "cell_type": "markdown",
   "id": "d91ea960-2e09-4627-88ac-04b93e051433",
   "metadata": {},
   "source": [
    "As we did in exercise 1, in order to run the Stokes inversion we need to provide an initial guess for the model atmosphere.\n",
    "\n",
    "Generate a 'reasonable' model:"
   ]
  },
  {
   "cell_type": "code",
   "execution_count": 19,
   "id": "72fe3fd3-dd30-49d6-86c0-3ca0f265123b",
   "metadata": {},
   "outputs": [
    {
     "name": "stdout",
     "output_type": "stream",
     "text": [
      "model::setSize: nx = 1, ny = 1, ndep = 63, nt = 1\n",
      "model::write: modelin.nc -> nx=1, ny=1, ndep=63, nt=1\n"
     ]
    }
   ],
   "source": [
    "# Init the input model, all quantities in CGS units!\n",
    "# First create a tau scale\n",
    "taumin = -7.8\n",
    "taumax= 1.0\n",
    "dtau = 0.14\n",
    "ntau = int((taumax-taumin)/dtau) + 1\n",
    "tau = np.arange(ntau, dtype='float64')/(ntau-1.0) * (taumax-taumin) + taumin\n",
    "# Now create a smooth temperature profile\n",
    "temp = np.interp(tau, np.asarray([-8.0, -6.0, -4.0, -2.0 , 0.8]), np.asarray([70000., 8000., 4000., 4800., 7000.]))\n",
    "# Fill in the model\n",
    "m = sp.model(nx=1, ny=1, nt=1, ndep=ntau)\n",
    "m.ltau[0,0,0,:] = tau\n",
    "m.temp[0,0,0,:] = temp\n",
    "# The inversion only needs to know the gas pressure at the upper boundary. FALC has Pgas[top] ~ 0.3, but\n",
    "# this value is for quiet-Sun. Active regions can have up to Pgas[top] = 10.\n",
    "m.pgas[0,0,0,:] = 1.0\n",
    "# Fill in initial B field and velovity (optional)\n",
    "m.vturb[0,0,0,:] = 1.e5\n",
    "m.vlos[0,0,0,:] = 0.5e5 # cm/s\n",
    "m.Bln[0,0,0,:] = 300.\n",
    "m.Bho[0,0,0,:] = 650.\n",
    "m.azi[0,0,0,:] = 100. * 3.14159 / 180.\n",
    "# Write to HD\n",
    "m.write('modelin.nc')\n"
   ]
  },
  {
   "cell_type": "markdown",
   "id": "2977a805-acff-4ba9-95ca-844d04606063",
   "metadata": {},
   "source": [
    "Consider the inversion of these \"observations\" considering PRD and NLTE inversion:\n",
    "\n",
    "Check:\n",
    "\n",
    "    input.cfg\n",
    "    keyword.input\n",
    "    atoms.input"
   ]
  },
  {
   "cell_type": "code",
   "execution_count": 20,
   "id": "b956a382-ec7b-4592-8578-cda48828c7b8",
   "metadata": {},
   "outputs": [
    {
     "name": "stdout",
     "output_type": "stream",
     "text": [
      "'input.cfg' -> 'input_prd.cfg'\n",
      "'keyword.input' -> 'keyword_prd.input'\n"
     ]
    }
   ],
   "source": [
    "!ln -vfs input_prd.cfg input.cfg\n",
    "!ln -vfs keyword_prd.input keyword.input"
   ]
  },
  {
   "cell_type": "markdown",
   "id": "df72867a-5042-4a43-a1bc-6adf8355fb33",
   "metadata": {},
   "source": [
    "The following one takes ~30 minutes!!"
   ]
  },
  {
   "cell_type": "code",
   "execution_count": 21,
   "id": "466eb25e-46b3-4fc1-9528-4f20d2b7e4b4",
   "metadata": {},
   "outputs": [
    {
     "name": "stdout",
     "output_type": "stream",
     "text": [
      "\n",
      "   SSSSSSSSSSSSSSS TTTTTTTTTTTTTTTTTTTTTTT  iiii         CCCCCCCCCCCCC\n",
      " SS:::::::::::::::ST:::::::::::::::::::::T i::::i     CCC::::::::::::C\n",
      "S:::::SSSSSS::::::ST:::::::::::::::::::::T  iiii    CC:::::::::::::::C\n",
      "S:::::S     SSSSSSST:::::TT:::::::TT:::::T         C:::::CCCCCCCC::::C\n",
      "S:::::S            TTTTTT  T:::::T  TTTTTTiiiiiii C:::::C       CCCCCC\n",
      "S:::::S                    T:::::T        i:::::iC:::::C              \n",
      " S::::SSSS                 T:::::T         i::::iC:::::C              \n",
      "  SS::::::SSSSS            T:::::T         i::::iC:::::C              \n",
      "    SSS::::::::SS          T:::::T         i::::iC:::::C              \n",
      "       SSSSSS::::S         T:::::T         i::::iC:::::C              \n",
      "            S:::::S        T:::::T         i::::iC:::::C              \n",
      "            S:::::S        T:::::T         i::::i C:::::C       CCCCCC\n",
      "SSSSSSS     S:::::S      TT:::::::TT      i::::::i C:::::CCCCCCCC::::C\n",
      "S::::::SSSSSS:::::S      T:::::::::T      i::::::i  CC:::::::::::::::C\n",
      "S:::::::::::::::SS       T:::::::::T      i::::::i    CCC::::::::::::C\n",
      " SSSSSSSSSSSSSSS         TTTTTTTTTTT      iiiiiiii       CCCCCCCCCCCCC\n",
      "\n",
      "STIC: Initialized with 2 process(es)\n",
      "read_input: ignoring line: # I/O options and observation details\n",
      "read_input: input_model -> modelin.nc\n",
      "read_input: input_profiles -> observed.nc\n",
      "read_input: output_profiles -> synthetic_cycle1_prd.nc\n",
      "read_input: output_atmos -> atmosout_cycle1_prd.nc\n",
      "read_input: abundance_file -> Atoms/abundance.input\n",
      "read_input: mu -> 1.0\n",
      "read_input: ignoring line: # Some inversion stuff: Mode 1 is invert pixel to pixel, mode 2 is synthesis, mode 3\n",
      "read_input: ignoring line: # is sparse inversion (broken at the moment)\n",
      "read_input: mpi_pack -> 1\n",
      "read_input: mode -> 1\n",
      "read_input: synthesize_lte_eos -> 1\n",
      "read_input: ignoring line: use_eos = 1\n",
      "read_input: master_threads -> 1\n",
      "read_input: recompute_hydro -> 1\n",
      "read_input: ignoring line: # Type of atmosphere: rh or lte\n",
      "read_input: atmosphere_type -> rh\n",
      "read_input: instrument -> none\n",
      "read_input: ignoring line: # Regions information, they will be appended one after the other \n",
      " >>>>>>>>>>>>>> fpi\n",
      " >>>>>>>>>>>>>> fpi\n",
      " >>>>>>>>>>>>>> fpi\n",
      " >>>>>>>>>>>>>> fpi\n",
      " >>>>>>>>>>>>>> fpi\n",
      "read_input: region -> 3932.19227,0.03913,76,2.53705343e-05,fpi,3934.nc\n",
      " >>>>>>>>>>>>>> fpi\n",
      " >>>>>>>>>>>>>> fpi\n",
      " >>>>>>>>>>>>>> fpi\n",
      " >>>>>>>>>>>>>> fpi\n",
      " >>>>>>>>>>>>>> fpi\n",
      "read_input: region -> 8540.23102,0.04267,88,4.13985635e-05,fpi,8542.nc\n",
      " >>>>>>>>>>>>>> fpi\n",
      " >>>>>>>>>>>>>> fpi\n",
      " >>>>>>>>>>>>>> fpi\n",
      " >>>>>>>>>>>>>> fpi\n",
      " >>>>>>>>>>>>>> fpi\n",
      "read_input: region -> 6301.24942,0.01007,46,3.93137406e-05,fpi,6302.nc\n",
      " >>>>>>>>>>>>>> fpi\n",
      " >>>>>>>>>>>>>> fpi\n",
      " >>>>>>>>>>>>>> fpi\n",
      " >>>>>>>>>>>>>> fpi\n",
      " >>>>>>>>>>>>>> fpi\n",
      "read_input: region -> 6302.12567,0.01007,49,3.93159284e-05,fpi,6302.nc\n",
      "read_input: ignoring line: # Levenberg-Marquardt parameters\n",
      "read_input: svd_thres -> 1.0e-14\n",
      "read_input: svd_split_singular -> 0\n",
      "read_input: delay_bracket_lambda -> 10\n",
      "read_input: marquardt_damping -> 100\n",
      "read_input: max_inv_iter -> 50\n",
      "read_input: centered_derivatives -> 0\n",
      "read_input: chi2_threshold -> 1.0\n",
      "read_input: randomize_inversions -> 1\n",
      "read_input: parameter_perturbation -> 0.01\n",
      "read_input: randomize_first -> 0\n",
      "read_input: ignoring line: #\n",
      "read_input: ignoring line: # 0 none, 1 Tikhonov (first derivative), 2 deviations from mean, 3 deviations from zero\n",
      "read_input: ignoring line: # 7 numbers: Temp, Vlos, vturb, B, inc, azi, pgas_boundary\n",
      "read_input: ignoring line: # default (0,0,0,0,0,0,0). Not all numbers work with all parameters. For example deviations\n",
      "read_input: ignoring line: # from constant values for temperature does not make sense...in that case it reverts to zero\n",
      "read_input: ignoring line: # Regularization_weights: up to 7 numbers with the relative scaling of each parameter. This weight is multiplied by \"regularize\".\n",
      "read_input: regularization_type -> 4,1,3,1,1,1,1\n",
      "read_input: regularize -> 1\n",
      "read_input: regularization_weights -> 1,1,1,0.1,0.1,0.001,1.0\n",
      "read_input: ignoring line: # Model interpolation: (0) linear, (1) cuadratic Bezier, (2) cubic Bezier, (3) discontinuous\n",
      "read_input: depth_interpolation -> 2\n",
      "read_input: ignoring line: # depth_model: use 0 (default) to use nodes as the model value or 1 to perturb the model like SIR/NICOLE\n",
      "read_input: depth_model -> 0\n",
      "read_input: ignoring line: # depth_type: use 0 for log_tau or 1 for log_cmass. In synthesis mode we can use also \"2\" for \"z\".\n",
      "read_input: depth_t -> 0\n",
      "read_input: ignoring line: # nodes, it can be one number indicating the number of\n",
      "read_input: ignoring line: # equidistant nodes or the actual locations, coma-separated\n",
      "read_input: nodes_temp -> 9\n",
      "read_input: nodes_vturb -> 5\n",
      "read_input: nodes_vlos -> 5\n",
      "read_input: nodes_blong -> 3\n",
      "read_input: nodes_bhor -> 2\n",
      "read_input: nodes_azi -> 1\n",
      "read_input: ignoring line: # Do not touch this if you don't know what you are doing....\n",
      "read_input: invert_pgas_boundary -> 0\n",
      "read_input: ignoring line: # Set this to false if you are running big runs\n",
      "read_input: verbose -> 1\n",
      "read_input: total number of nodes = 25\n",
      "\n",
      "io::initRead: Found 12 variables in modelin.nc [azi, bhor, blong, cmass, ltau500, nne, pgas, rho, temp, vlos, vturb, z]\n",
      "io::initRead: Found 4 variables in observed.nc [pixel_weights, profiles, wav, weights]\n",
      "io::read_Tstep: read weights [259, 4]\n",
      "io::read_Tstep: read wav [259]\n",
      "io::initRead: Found 12 variables in modelin.nc [azi, bhor, blong, cmass, ltau500, nne, pgas, rho, temp, vlos, vturb, z]\n",
      "io::read_Tstep: read temp (t=0) [1, 1, 63]\n",
      "io::read_Tstep: read vlos (t=0) [1, 1, 63]\n",
      "io::read_Tstep: read vturb (t=0) [1, 1, 63]\n",
      "io::read_Tstep: read blong (t=0) [1, 1, 63]\n",
      "io::read_Tstep: read bhor (t=0) [1, 1, 63]\n",
      "io::read_Tstep: read azi (t=0) [1, 1, 63]\n",
      "io::read_Tstep: read pgas (t=0) [1, 1, 63]\n",
      "io::read_Tstep: read rho (t=0) [1, 1, 63]\n",
      "io::read_Tstep: read nne (t=0) [1, 1, 63]\n",
      "mdepthall::read_model2: Bound -> 1\n",
      "io::read_Tstep: read ltau500 (t=0) [1, 1, 63]\n",
      "io::read_Tstep: read z (t=0) [1, 1, 63]\n",
      "io::read_Tstep: read cmass (t=0) [1, 1, 63]\n",
      "set_nodes: Temp -> [-7.8, -6.66452, -5.67097, -4.53548, -3.4, -2.26452, -1.27097, -0.135484, 1]\n",
      "set_nodes: Vlos -> [-7.8, -5.67097, -3.4, -1.27097, 1]\n",
      "set_nodes: Vturb -> [-7.8, -5.67097, -3.4, -1.27097, 1]\n",
      "set_nodes: Blong -> [-7.8, -3.4, 1]\n",
      "set_nodes: Bhor -> [-7.8, 1]\n",
      "set_nodes: Azi -> [0]\n",
      "io::write_Tstep: writing [wav] to synthetic_cycle1_prd.nc\n",
      "io::write_Tstep: writing [weights] to synthetic_cycle1_prd.nc\n",
      "io::write_Tstep: writing [nodes_id] to synthetic_cycle1_prd.nc\n",
      "io::write_Tstep: writing [nodes_location] to synthetic_cycle1_prd.nc\n",
      "io::write_Tstep: writing [nodes_switch] to synthetic_cycle1_prd.nc\n",
      "read_instruments: region[  0] <3934.nc> [25]\n",
      "read_instruments: region[  1] <8542.nc> [25]\n",
      "read_instruments: region[  2] <6302.nc> [45]\n",
      "read_instruments: region[  3] <6302.nc> [45]\n",
      "master, comm_get_buffer_size: MPI_buffer_size = 1.9248 kbytes\n",
      "master, comm_get_buffer_size: MPI_buffer_size1 = 1.9248 kbytes\n",
      "io::read_Tstep: read profiles (t=0) [1, 1, 259, 4]\n",
      "io::read_Tstep: read pixel_weights (t=0) [1, 1]\n",
      "Processed -> 0% [p:   1, Init] chi2=47750.354181 (3.978627), lambda=1.000000e+00\n",
      "[p:   1,i:   0] chi2=   12340.17256 (2.809382, 12342.981938), dchi2=-3.541135e+04, lambda=1.000000e+00, elapsed=46.924s  \n",
      "[p:   1,i:   1] chi2=    9257.31215 (3.017315, 9260.329465), dchi2=-3.082652e+03, lambda=3.162278e-01, elapsed=44.238s  \n",
      "[p:   1,i:   2] chi2=    7852.35036 (2.523322, 7854.873679), dchi2=-1.405456e+03, lambda=1.000000e-01, elapsed=46.429s  \n",
      "[p:   1,i:   3]  ->  chi2=8565.042219 (6.217949), increasing lambda [3.162278e-02 -> 3.162278e-01]\n",
      "[p:   1,i:   3] chi2=    7267.40243 (3.114899, 7270.517331), dchi2=-5.843563e+02, lambda=3.162278e-01, elapsed=50.584s  \n",
      "[p:   1,i:   4] chi2=    6695.04828 (2.451951, 6697.500234), dchi2=-5.730171e+02, lambda=1.000000e-01, elapsed=45.447s  \n",
      "[p:   1,i:   5] chi2=    5667.29513 (3.199299, 5670.494431), dchi2=-1.027006e+03, lambda=3.162278e-02, elapsed=42.292s  \n",
      "[p:   1,i:   6] chi2=    4599.32404 (3.927508, 4603.251543), dchi2=-1.067243e+03, lambda=1.000000e-02, elapsed=46.058s  \n",
      "[p:   1,i:   7] chi2=    2847.13074 (10.200770, 2857.331506), dchi2=-1.745920e+03, lambda=3.162278e-03, elapsed=45.981s  \n",
      "[p:   1,i:   8]  ->  chi2=3831.266384 (7.646602), increasing lambda [1.000000e-03 -> 1.000000e-02]\n",
      "[p:   1,i:   8]  ->  chi2=3317.998548 (6.694829), increasing lambda [1.000000e-02 -> 1.000000e-01]\n",
      "[p:   1,i:   8] chi2=    2124.61527 (8.813337, 2133.428610), dchi2=-7.239029e+02, lambda=1.000000e-01, elapsed=46.913s  \n",
      "[p:   1,i:   9] chi2=    1184.27468 (9.173235, 1193.447918), dchi2=-9.399807e+02, lambda=3.162278e-02, elapsed=47.275s  \n",
      "[p:   1,i:  10] chi2=     777.00569 (11.372125, 788.377817), dchi2=-4.050701e+02, lambda=1.000000e-02, elapsed=110.973s  \n",
      "[p:   1,i:  11] chi2=     516.93996 (13.098652, 530.038607), dchi2=-2.583392e+02, lambda=1.581139e-02, elapsed=103.608s  \n",
      "[p:   1,i:  12] chi2=     457.81002 (13.144759, 470.954776), dchi2=-5.908383e+01, lambda=7.905694e-03, elapsed=79.073s  \n",
      "[p:   1,i:  13] chi2=     425.75114 (14.419250, 440.170387), dchi2=-3.078439e+01, lambda=1.250000e-02, elapsed=75.403s  \n",
      "[p:   1,i:  14] chi2=     386.05694 (13.948964, 400.005908), dchi2=-4.016448e+01, lambda=6.250000e-01, elapsed=99.707s  \n",
      "[p:   1,i:  15] chi2=     365.39294 (13.665422, 379.058365), dchi2=-2.094754e+01, lambda=3.125000e-01, elapsed=87.785s  \n",
      "[p:   1,i:  16] chi2=     350.57051 (13.985198, 364.555706), dchi2=-1.450266e+01, lambda=4.941059e-01, elapsed=79.310s  \n",
      "[p:   1,i:  17] chi2=     343.43153 (14.144716, 357.576243), dchi2=-6.979463e+00, lambda=2.470529e-01, elapsed=81.792s  \n",
      "[p:   1,i:  18] chi2=     337.03986 (14.159570, 351.199427), dchi2=-6.376816e+00, lambda=3.906250e-01, elapsed=93.485s  \n",
      "[p:   1,i:  19] chi2=     332.41914 (14.114806, 346.533946), dchi2=-4.665481e+00, lambda=6.176324e-01, elapsed=82.917s  \n",
      "[p:   1,i:  20] chi2=     328.45030 (13.676524, 342.126824), dchi2=-4.407122e+00, lambda=3.088162e-01, elapsed=92.258s  \n",
      "[p:   1,i:  21] chi2=     322.18028 (13.499631, 335.679913), dchi2=-6.446911e+00, lambda=4.882813e-01, elapsed=95.022s  \n",
      "[p:   1,i:  22] chi2=     316.30137 (12.687186, 328.988558), dchi2=-6.691355e+00, lambda=2.441406e-01, elapsed=79.821s  \n",
      "[p:   1,i:  23] chi2=     308.88144 (12.669872, 321.551314), dchi2=-7.437243e+00, lambda=3.860202e-01, elapsed=92.693s  \n",
      "[p:   1,i:  24] chi2=     303.13106 (11.947147, 315.078209), dchi2=-6.473105e+00, lambda=1.930101e-01, elapsed=86.538s  \n",
      "[p:   1,i:  25] chi2=     296.90113 (11.850011, 308.751136), dchi2=-6.327073e+00, lambda=3.051758e-01, elapsed=72.854s  \n",
      "[p:   1,i:  26] chi2=     293.45753 (11.396088, 304.853622), dchi2=-3.897514e+00, lambda=4.825253e-01, elapsed=66.542s  \n",
      "[p:   1,i:  27] chi2=     286.23485 (11.195332, 297.430182), dchi2=-7.423440e+00, lambda=2.412626e-01, elapsed=65.832s  \n",
      "[p:   1,i:  28] chi2=     277.67889 (10.928554, 288.607448), dchi2=-8.822734e+00, lambda=1.206313e-01, elapsed=68.849s  \n",
      "[p:   1,i:  29] chi2=     263.85786 (10.351932, 274.209794), dchi2=-1.439765e+01, lambda=1.907349e-01, elapsed=69.680s  \n",
      "[p:   1,i:  30] chi2=     253.92316 (10.651610, 264.574766), dchi2=-9.635028e+00, lambda=3.015783e-01, elapsed=68.481s  \n",
      "[p:   1,i:  31]  ->  chi2=255.831027 (10.651610), increasing lambda [4.768372e-01 -> 4.768372e+00]\n",
      "[p:   1,i:  31] chi2=     251.30956 (10.364920, 261.674482), dchi2=-2.900283e+00, lambda=4.768372e+00, elapsed=72.070s  \n",
      "[p:   1,i:  32] chi2=     248.39543 (10.729563, 259.124993), dchi2=-2.549490e+00, lambda=2.384186e-01, elapsed=73.286s  \n",
      "[p:   1,i:  33]  ->  chi2=254.959003 (10.729563), increasing lambda [3.769729e-01 -> 3.769729e+00]\n",
      "[p:   1,i:  33] chi2=     246.77436 (10.611345, 257.385704), dchi2=-1.739289e+00, lambda=3.769729e+00, elapsed=70.979s  \n",
      "clm::fitdata:  [p:   1] relative change in chi2 is too low, inversion finished\n",
      " \n",
      "io::write_Tstep: writing [temp] (t=0) to atmosout_cycle1_prd.nc\n",
      "io::write_Tstep: writing [vlos] (t=0) to atmosout_cycle1_prd.nc\n",
      "io::write_Tstep: writing [vturb] (t=0) to atmosout_cycle1_prd.nc\n",
      "io::write_Tstep: writing [blong] (t=0) to atmosout_cycle1_prd.nc\n",
      "io::write_Tstep: writing [bhor] (t=0) to atmosout_cycle1_prd.nc\n",
      "io::write_Tstep: writing [azi] (t=0) to atmosout_cycle1_prd.nc\n",
      "io::write_Tstep: writing [ltau500] (t=0) to atmosout_cycle1_prd.nc\n",
      "io::write_Tstep: writing [z] (t=0) to atmosout_cycle1_prd.nc\n",
      "io::write_Tstep: writing [pgas] (t=0) to atmosout_cycle1_prd.nc\n",
      "io::write_Tstep: writing [rho] (t=0) to atmosout_cycle1_prd.nc\n",
      "io::write_Tstep: writing [nne] (t=0) to atmosout_cycle1_prd.nc\n",
      "io::write_Tstep: writing [cmass] (t=0) to atmosout_cycle1_prd.nc\n",
      "io::write_Tstep: writing [transition_region_loc] (t=0) to atmosout_cycle1_prd.nc\n",
      "io::write_Tstep: writing [transition_region_scale] (t=0) to atmosout_cycle1_prd.nc\n",
      "io::write_Tstep: writing [transition_region_nGrid] (t=0) to atmosout_cycle1_prd.nc\n",
      "io::write_Tstep: writing [profiles] (t=0) to synthetic_cycle1_prd.nc\n",
      " OMP: 1 threads used out of 1 possible threads.\n",
      " \n",
      "master, comm_deactivate_workers: Deactivating workers...\n",
      " \n",
      "master, comm_deactivate_workers: Deactivating workers.\n",
      "mdepthall::setsize: [0 0 0]\n",
      "main: total elapsed time [00:40:31.776]\n"
     ]
    }
   ],
   "source": [
    "!mpirun -n 2 ./STiC.x"
   ]
  },
  {
   "cell_type": "code",
   "execution_count": 22,
   "id": "f673f255-ddde-40c9-9ad1-d35db0a439b7",
   "metadata": {},
   "outputs": [
    {
     "name": "stdout",
     "output_type": "stream",
     "text": [
      "profile::setsize: nx=1, ny=1, nw=259, ns=4, nt=1\n",
      "['profiles' 'wav' 'weights' 'nodes_id' 'nodes_location' 'nodes_switch']\n",
      "profile::read: [profiles][wav][weights]\n"
     ]
    }
   ],
   "source": [
    "nlteprd_prof = sp.profile(\"./synthetic_cycle1_prd.nc\")\n"
   ]
  },
  {
   "cell_type": "markdown",
   "id": "05e9a3a6-fbab-416c-beda-21a3be53c548",
   "metadata": {},
   "source": [
    "Compare the synthetic profile of the inferred model (Stokes I -s=0-):"
   ]
  },
  {
   "cell_type": "code",
   "execution_count": 23,
   "id": "482d7d70-4c3a-4c8b-ab6f-2c5dd8617074",
   "metadata": {},
   "outputs": [
    {
     "name": "stdout",
     "output_type": "stream",
     "text": [
      "profile::setsize: nx=1, ny=1, nw=76, ns=4, nt=1\n",
      "profile::setsize: nx=1, ny=1, nw=88, ns=4, nt=1\n",
      "profile::setsize: nx=1, ny=1, nw=46, ns=4, nt=1\n",
      "profile::setsize: nx=1, ny=1, nw=49, ns=4, nt=1\n",
      "profile::setsize: nx=1, ny=1, nw=76, ns=4, nt=1\n",
      "profile::setsize: nx=1, ny=1, nw=88, ns=4, nt=1\n",
      "profile::setsize: nx=1, ny=1, nw=46, ns=4, nt=1\n",
      "profile::setsize: nx=1, ny=1, nw=49, ns=4, nt=1\n",
      "profile::setsize: nx=1, ny=1, nw=76, ns=4, nt=1\n",
      "profile::setsize: nx=1, ny=1, nw=88, ns=4, nt=1\n",
      "profile::setsize: nx=1, ny=1, nw=46, ns=4, nt=1\n",
      "profile::setsize: nx=1, ny=1, nw=49, ns=4, nt=1\n"
     ]
    },
    {
     "data": {
      "image/png": "[encoded data removed]",
      "text/plain": [
       "<Figure size 1000x800 with 4 Axes>"
      ]
     },
     "metadata": {},
     "output_type": "display_data"
    }
   ],
   "source": [
    "plot_profile([nobs,nlteprd_prof]\n",
    "             , kwargs=[{\"label\":\"Obs\",\"ls\":\"none\",\"marker\":\"o\"}, {\"label\":\"PRD\"},]\n",
    "             , plkwargs={\"figsize\":(10,8)})"
   ]
  },
  {
   "cell_type": "markdown",
   "id": "3542010b-2e97-4ff5-975c-5ecd2522a9e2",
   "metadata": {},
   "source": [
    "Compare the synthetic profile of the inferred model (Stokes V -s=3-):"
   ]
  },
  {
   "cell_type": "code",
   "execution_count": 24,
   "id": "4061d2ae-a433-400e-addd-40148fe4848b",
   "metadata": {
    "scrolled": true
   },
   "outputs": [
    {
     "name": "stdout",
     "output_type": "stream",
     "text": [
      "profile::setsize: nx=1, ny=1, nw=76, ns=4, nt=1\n",
      "profile::setsize: nx=1, ny=1, nw=88, ns=4, nt=1\n",
      "profile::setsize: nx=1, ny=1, nw=46, ns=4, nt=1\n",
      "profile::setsize: nx=1, ny=1, nw=49, ns=4, nt=1\n",
      "profile::setsize: nx=1, ny=1, nw=76, ns=4, nt=1\n",
      "profile::setsize: nx=1, ny=1, nw=88, ns=4, nt=1\n",
      "profile::setsize: nx=1, ny=1, nw=46, ns=4, nt=1\n",
      "profile::setsize: nx=1, ny=1, nw=49, ns=4, nt=1\n",
      "profile::setsize: nx=1, ny=1, nw=76, ns=4, nt=1\n",
      "profile::setsize: nx=1, ny=1, nw=88, ns=4, nt=1\n",
      "profile::setsize: nx=1, ny=1, nw=46, ns=4, nt=1\n",
      "profile::setsize: nx=1, ny=1, nw=49, ns=4, nt=1\n"
     ]
    },
    {
     "data": {
      "image/png": "[encoded data removed]",
      "text/plain": [
       "<Figure size 1000x800 with 4 Axes>"
      ]
     },
     "metadata": {},
     "output_type": "display_data"
    }
   ],
   "source": [
    "plot_profile([nobs,nlteprd_prof]\n",
    "             , kwargs=[{\"label\":\"Obs\",\"ls\":\"none\",\"marker\":\"o\"}, {\"label\":\"PRD\"},]\n",
    "             , plkwargs={\"figsize\":(10,8)}, s=3)"
   ]
  },
  {
   "cell_type": "markdown",
   "id": "90bfc987-b3f8-4802-b0ac-a0f78a927fa0",
   "metadata": {},
   "source": [
    "Compare the inferred model with the one we used to generate the \"observations\":"
   ]
  },
  {
   "cell_type": "code",
   "execution_count": 25,
   "id": "52bec1dc-de19-4d94-9e5b-0b68efadebdc",
   "metadata": {},
   "outputs": [
    {
     "name": "stdout",
     "output_type": "stream",
     "text": [
      "model::read: atmos type -> depth-stratified\n",
      "model::read: nx=1, ny=1, ndep=130, nt=1\n",
      "model::setSize: nx = 1, ny = 1, ndep = 130, nt = 1\n",
      "model::read: atmos type -> depth-stratified\n",
      "model::read: nx=1, ny=1, ndep=63, nt=1\n",
      "model::setSize: nx = 1, ny = 1, ndep = 63, nt = 1\n"
     ]
    }
   ],
   "source": [
    "m_ref = sp.model(\"./atm_inbifrost_model.nc\")\n",
    "m_prd = sp.model(\"./atmosout_cycle1_prd.nc\")"
   ]
  },
  {
   "cell_type": "code",
   "execution_count": null,
   "id": "b0b5279c-9d43-477b-a473-97b12f9f70c5",
   "metadata": {},
   "outputs": [],
   "source": [
    "plot_model([m_ref, m_prd]\n",
    "           , kwargs=[{\"label\":\"REF\"},{\"label\":\"PRD\"}]\n",
    "           , plkwargs={\"figsize\":(14,8)})"
   ]
  },
  {
   "cell_type": "markdown",
   "id": "98016234-5ebb-4ea7-8547-2b48c30c6b3f",
   "metadata": {},
   "source": [
    "We can get an idea of the optical depths where the selected spectral lines provide us with information about the optical depth dependent model:\n",
    "\n",
    "To do so, change the \"mode\" in \"input.cfg\" and add the following lane:\n",
    "\n",
    "    #\n",
    "    centered_derivatives = 1\n",
    "    #              t, vlos, vturb, Bln, Bho, azi\n",
    "    get_response = 1,    1,     1,   1,   1,   1\n"
   ]
  },
  {
   "cell_type": "code",
   "execution_count": null,
   "id": "85524546-bb0f-4f5f-93d7-5f0e28f9a393",
   "metadata": {},
   "outputs": [],
   "source": [
    "!ln -vfs input_prd_rf.cfg input.cfg\n",
    "!ln -vfs keyword_prd.input keyword.input"
   ]
  },
  {
   "cell_type": "markdown",
   "id": "6bbf5407-da28-4b92-ba3d-b3ec0f3ffcbd",
   "metadata": {},
   "source": [
    "The following piece of code takes ~ minutes."
   ]
  },
  {
   "cell_type": "code",
   "execution_count": null,
   "id": "40451520-0ccc-4800-a2cc-285a67e9a337",
   "metadata": {
    "scrolled": true
   },
   "outputs": [],
   "source": [
    "!mpirun -n 2 ./STiC.x"
   ]
  },
  {
   "cell_type": "markdown",
   "id": "5d76d147-5eaf-4623-b37b-3141bc7fc168",
   "metadata": {},
   "source": [
    "Read the response functions. It is the same \"profile\" function as for the synthetic spectra but now there is an additional attribute called \"rf\"."
   ]
  },
  {
   "cell_type": "code",
   "execution_count": null,
   "id": "0ca92d81-4da0-4530-ba6a-7bd5ec525163",
   "metadata": {},
   "outputs": [],
   "source": [
    "rfprd = sp.profile(\"synthetic_cycle1_prd_rf.nc\")"
   ]
  },
  {
   "cell_type": "markdown",
   "id": "c4fac2b1-8b74-4421-9f81-f9ed093f75a5",
   "metadata": {},
   "source": [
    "Response functions encode how the Stokes spectra changes as a specific parameter varies at a given height.\n",
    "\n",
    "For example, the response functions to the temperature are:"
   ]
  },
  {
   "cell_type": "code",
   "execution_count": null,
   "id": "60242c36-9333-4a71-896b-cf29b8cf5eab",
   "metadata": {},
   "outputs": [],
   "source": [
    "plot_rf([rfprd,], \"temp\", yaxis=m_prd.ltau[0,0,0,:])\n"
   ]
  },
  {
   "cell_type": "code",
   "execution_count": null,
   "id": "eefda828-8976-4e24-aa67-4a08cab07314",
   "metadata": {},
   "outputs": [],
   "source": [
    "plot_rf([rfprd,], \"temp\", yaxis=m_prd.ltau[0,0,0,:],s=3)\n"
   ]
  },
  {
   "cell_type": "code",
   "execution_count": null,
   "id": "870dc214-fca7-43c5-a0ba-b1ad1ecd80b5",
   "metadata": {},
   "outputs": [],
   "source": [
    "plot_rf([rfprd,], \"temp\", yaxis=m_prd.ltau[0,0,0,:],s=1)\n"
   ]
  },
  {
   "cell_type": "code",
   "execution_count": null,
   "id": "3d2292b0-e6e8-4e33-bc7d-a7f4953416a6",
   "metadata": {},
   "outputs": [],
   "source": [
    "plot_rf([rfprd,], \"temp\", yaxis=m_prd.ltau[0,0,0,:], s=2)"
   ]
  },
  {
   "cell_type": "markdown",
   "id": "8023d51e-b7d0-4cc0-bc46-649fd9b0baf0",
   "metadata": {},
   "source": [
    "You can check the RFs for the \"vlos\", \"vturb\", \"Bln\", \"Bho\", and/or \"azi\""
   ]
  },
  {
   "cell_type": "markdown",
   "id": "7bfe5040-f66d-4c67-b600-462d73d3c27c",
   "metadata": {},
   "source": [
    "We can now use the information of the response function to get a rough idea as to at what optical depths the spectra are sensitive to the model:"
   ]
  },
  {
   "cell_type": "code",
   "execution_count": null,
   "id": "eaa32b30-60e0-499c-96a6-9eba2f3f1c61",
   "metadata": {},
   "outputs": [],
   "source": [
    "plot_model([m_ref, m_prd,]\n",
    "           , kwargs=[{\"label\":\"REF\"},{\"label\":\"PRD\"},]\n",
    "           , plkwargs={\"figsize\":(14,8)}, rfs=[None, rfprd, ])"
   ]
  },
  {
   "cell_type": "code",
   "execution_count": null,
   "id": "d3dac7bb-0c4a-4fa8-a24d-93265840a9fa",
   "metadata": {},
   "outputs": [],
   "source": []
  },
  {
   "cell_type": "markdown",
   "id": "cb178a07-5857-4522-a610-e505952976d3",
   "metadata": {},
   "source": [
    "Exercises:\n",
    "\n",
    "1-Repeat inversion in CRD:\n",
    "\n",
    "    Hint: edit keyword.input so that \"PRD_N_MAX_ITER=0\"\n",
    "\n",
    "2- Repeat inversion in LTE:\n",
    "\n",
    "    Hint: edit input.cfg so that you get something like:\n",
    "\n",
    "        # Type of atmosphere: rh or lte\n",
    "        #atmosphere_type = rh\n",
    "        atmosphere_type = lte\n",
    "        lines = all\n",
    "\n",
    "3- Change the number of nodes to get an idea of the impact they have in the inference\n",
    "\n",
    "    Hint: you can change the number of nodes in \"input.cfg\":\n",
    "\n",
    "        # nodes, it can be one number indicating the number of\n",
    "        # equidistant nodes or the actual locations, coma-separated\n",
    "        nodes_temp = 9\n",
    "        nodes_vturb = 5\n",
    "        nodes_vlos = 5\n",
    "        nodes_blong = 3\n",
    "        nodes_bhor = 2\n",
    "        nodes_azi = 1\n",
    "\n",
    "\n",
    "4- Change the regularization type/norm to check what the is the effect of regularization\n",
    "\n",
    "    Hint: you can change the type and norm of the regularization in \"input.cfg\":\n",
    "\n",
    "        # 0 none, 1 Tikhonov (first derivative), 2 deviations from mean, 3 deviations from zero\n",
    "        # 7 numbers: Temp, Vlos, vturb, B, inc, azi, pgas_boundary\n",
    "        # default (0,0,0,0,0,0,0). Not all numbers work with all parameters. For example deviations\n",
    "        # from constant values for temperature does not make sense...in that case it reverts to zero\n",
    "        # Regularization_weights: up to 7 numbers with the relative scaling of each parameter. This weight is multiplied by \"regularize\".\n",
    "\n",
    "        regularization_type = 1,1,3,1,1,1,1\n",
    "        regularize = 1\n",
    "        regularization_weights = 1, 1, 1, 0.1, 0.1, 0.1, 1.0 \n",
    "\n",
    "Message to take home:\n",
    "\n",
    "    The results of the inference depend on the model one choses to explain the observations and the posterior analysis has to be done with that in mind!\n"
   ]
  },
  {
   "cell_type": "code",
   "execution_count": null,
   "id": "f361b730-f179-44c2-b2db-597ba073f9a2",
   "metadata": {},
   "outputs": [],
   "source": []
  },
  {
   "cell_type": "code",
   "execution_count": null,
   "id": "50f56770",
   "metadata": {},
   "outputs": [],
   "source": [
    "nobs.write(\"./observed.nc\")"
   ]
  },
  {
   "cell_type": "markdown",
   "id": "0b1ae7f9",
   "metadata": {},
   "source": [
    "For the stokes inversion we need to provide an initial guess for the model atmosphere. Let us generate a 'reasonable' model:"
   ]
  },
  {
   "cell_type": "code",
   "execution_count": null,
   "id": "bb984e28",
   "metadata": {},
   "outputs": [],
   "source": [
    "# Init the input model, all quantities in CGS units!\n",
    "# First create a tau scale\n",
    "taumin = -7.8\n",
    "taumax= 1.0\n",
    "dtau = 0.14\n",
    "ntau = int((taumax-taumin)/dtau) + 1\n",
    "tau = np.arange(ntau, dtype='float64')/(ntau-1.0) * (taumax-taumin) + taumin\n",
    "# Now create a smooth temperature profile\n",
    "temp = np.interp(tau, np.asarray([-8.0, -6.0, -4.0, -2.0 , 0.8]), np.asarray([70000., 8000., 4000., 4800., 7000.]))\n",
    "# Fill in the model\n",
    "m = sp.model(nx=1, ny=1, nt=1, ndep=ntau)\n",
    "m.ltau[0,0,0,:] = tau\n",
    "m.temp[0,0,0,:] = temp\n",
    "# The inversion only needs to know the gas pressure at the upper boundary. FALC has Pgas[top] ~ 0.3, but\n",
    "# this value is for quiet-Sun. Active regions can have up to Pgas[top] = 10.\n",
    "m.pgas[0,0,0,:] = 1.0\n",
    "# Fill in initial B field and velovity (optional)\n",
    "m.vturb[0,0,0,:] = 1.e5\n",
    "m.vlos[0,0,0,:] = 0.5e5 # cm/s\n",
    "m.Bln[0,0,0,:] = 300.\n",
    "m.Bho[0,0,0,:] = 650.\n",
    "m.azi[0,0,0,:] = 100. * 3.14159 / 180.\n",
    "# Write to HD\n",
    "m.write('modelin.nc')\n"
   ]
  },
  {
   "cell_type": "markdown",
   "id": "e2422add-2dc2-4bb7-bace-a3502b449e3b",
   "metadata": {},
   "source": [
    "For reference, let us start with the inversion in LTE:"
   ]
  },
  {
   "cell_type": "code",
   "execution_count": null,
   "id": "0ab143a2-1dbd-4a39-96a8-b1c0ee365431",
   "metadata": {
    "scrolled": true
   },
   "outputs": [],
   "source": [
    "!ln -vfs input_lte.cfg input.cfg"
   ]
  },
  {
   "cell_type": "code",
   "execution_count": null,
   "id": "e2fe2099-08ff-46e7-aaa2-c70501d9bb72",
   "metadata": {},
   "outputs": [],
   "source": [
    "!mpirun -n 2 ./STiC.x"
   ]
  },
  {
   "cell_type": "markdown",
   "id": "1c484041-a28f-45aa-98f5-9bf65ebfbf64",
   "metadata": {},
   "source": [
    "Now, let us consider the case of a NLTE inversion but in CRD:"
   ]
  },
  {
   "cell_type": "code",
   "execution_count": null,
   "id": "8a6f4b1b-c28e-44d1-8786-11b86820208d",
   "metadata": {},
   "outputs": [],
   "source": [
    "!ln -vfs input_crd.cfg input.cfg"
   ]
  },
  {
   "cell_type": "code",
   "execution_count": null,
   "id": "9bec7538-911f-40be-8a3d-a77c1584f0c3",
   "metadata": {},
   "outputs": [],
   "source": [
    "!ln -vfs keyword_crd.input keyword.input"
   ]
  },
  {
   "cell_type": "code",
   "execution_count": null,
   "id": "f3674cbc-6275-4996-8fab-6ebf08c32470",
   "metadata": {},
   "outputs": [],
   "source": [
    "!mpirun -n 2 ./STiC.x"
   ]
  },
  {
   "cell_type": "markdown",
   "id": "4cf9e8c1-e051-48fb-8284-27ad5a0a37f0",
   "metadata": {},
   "source": [
    "Finally, let us consider the inversion of NLTE with PRD in a 1D approach, which is the model with the most physics that STiC can handle in the inversion"
   ]
  },
  {
   "cell_type": "code",
   "execution_count": null,
   "id": "41a38bd6",
   "metadata": {},
   "outputs": [],
   "source": [
    "!ln -vfs input_prd.cfg input.cfg"
   ]
  },
  {
   "cell_type": "code",
   "execution_count": null,
   "id": "14c566f5-ca01-459e-9a35-0bcdcb6cecb8",
   "metadata": {},
   "outputs": [],
   "source": [
    "!ln -vfs keyword_prd.input keyword.input"
   ]
  },
  {
   "cell_type": "code",
   "execution_count": null,
   "id": "20f36757",
   "metadata": {},
   "outputs": [],
   "source": [
    "!mpirun -n 2 ./STiC.x"
   ]
  },
  {
   "cell_type": "code",
   "execution_count": null,
   "id": "5cd39b17-0382-4293-8075-914b6f97c782",
   "metadata": {},
   "outputs": [],
   "source": []
  },
  {
   "cell_type": "code",
   "execution_count": null,
   "id": "3d21be57-13e9-4812-9efc-a80f22c0d9da",
   "metadata": {},
   "outputs": [],
   "source": []
  },
  {
   "cell_type": "code",
   "execution_count": null,
   "id": "e675bc86-9e71-46d4-a670-e212b3e29c90",
   "metadata": {},
   "outputs": [],
   "source": []
  },
  {
   "cell_type": "markdown",
   "id": "ad327759-c493-4916-8bb1-10d8180b6f0d",
   "metadata": {},
   "source": []
  },
  {
   "cell_type": "code",
   "execution_count": null,
   "id": "189f21cd-6c44-41c7-95bc-41feb008f7ea",
   "metadata": {},
   "outputs": [],
   "source": [
    "nlteprd_prof = sp.profile(\"./synthetic_cycle1_prd.nc\")\n",
    "nltecrd_prof = sp.profile(\"./synthetic_cycle1_crd.nc\")\n",
    "lte_prof = sp.profile(\"./synthetic_cycle1_lte.nc\")\n"
   ]
  },
  {
   "cell_type": "code",
   "execution_count": null,
   "id": "ce58df60-d211-416b-b817-5365fca50fbe",
   "metadata": {},
   "outputs": [],
   "source": [
    "plot_profile([nobs,lte_prof,nltecrd_prof,nlteprd_prof]\n",
    "             , kwargs=[{\"label\":\"Obs\",\"ls\":\"none\",\"marker\":\"o\"}, {\"label\":\"LTE\"}, {\"label\":\"CRD\"}, {\"label\":\"PRD\"},]\n",
    "             , plkwargs={\"figsize\":(14,8)})"
   ]
  },
  {
   "cell_type": "code",
   "execution_count": null,
   "id": "bc52a6b7-faff-40df-8f79-a8af5d1d302d",
   "metadata": {},
   "outputs": [],
   "source": [
    "plot_profile([nobs,lte_prof,nltecrd_prof,nlteprd_prof]\n",
    "             , kwargs=[{\"label\":\"Obs\",\"ls\":\"none\",\"marker\":\"o\"}, {\"label\":\"LTE\"}, {\"label\":\"CRD\"}, {\"label\":\"PRD\"},]\n",
    "             , plkwargs={\"figsize\":(14,8)},s=3)"
   ]
  },
  {
   "cell_type": "code",
   "execution_count": null,
   "id": "01c94a7d-b28f-4391-a7ee-57d28dbf4a01",
   "metadata": {},
   "outputs": [],
   "source": [
    "plot_profile([nobs,lte_prof,nltecrd_prof,nlteprd_prof]\n",
    "             , kwargs=[{\"label\":\"Obs\",\"ls\":\"none\",\"marker\":\"o\"}, {\"label\":\"LTE\"}, {\"label\":\"CRD\"}, {\"label\":\"PRD\"},]\n",
    "             , plkwargs={\"figsize\":(14,8)},s=1)"
   ]
  },
  {
   "cell_type": "code",
   "execution_count": null,
   "id": "632709e2-9a24-4762-8b28-51f77b19e192",
   "metadata": {},
   "outputs": [],
   "source": [
    "plot_profile([nobs,lte_prof,nltecrd_prof,nlteprd_prof]\n",
    "             , kwargs=[{\"label\":\"Obs\",\"ls\":\"none\",\"marker\":\"o\"}, {\"label\":\"LTE\"}, {\"label\":\"CRD\"}, {\"label\":\"PRD\"},]\n",
    "             , plkwargs={\"figsize\":(14,8)},s=2)"
   ]
  },
  {
   "cell_type": "markdown",
   "id": "647228f6-42f1-45b6-8fd4-e8f453e19e11",
   "metadata": {},
   "source": [
    "We can now compare the models we get in the various inversions to the reference one:"
   ]
  },
  {
   "cell_type": "code",
   "execution_count": null,
   "id": "a246f23d-461c-4a0b-ad7d-500fbc249053",
   "metadata": {},
   "outputs": [],
   "source": [
    "m_ref = sp.model(\"./atm_inbifrost_model.nc\")\n",
    "m_lte = sp.model(\"./atmosout_cycle1_lte.nc\")\n",
    "m_crd = sp.model(\"./atmosout_cycle1_crd.nc\")\n",
    "m_prd = sp.model(\"./atmosout_cycle1_prd.nc\")"
   ]
  },
  {
   "cell_type": "code",
   "execution_count": null,
   "id": "77e26357-ccd3-40c1-bf45-08da471c31b3",
   "metadata": {},
   "outputs": [],
   "source": [
    "plot_model([m_ref, m_lte,m_crd, m_prd]\n",
    "           , kwargs=[{\"label\":\"REF\"},{\"label\":\"LTE\"},{\"label\":\"CRD\"},{\"label\":\"PRD\"}]\n",
    "           , plkwargs={\"figsize\":(14,8)})"
   ]
  },
  {
   "cell_type": "markdown",
   "id": "0cde8f1e-0ab4-4cea-ae3f-9988494d5c8e",
   "metadata": {},
   "source": [
    "However, the data we have used for the inversion does not necessarily probe the whole atmosphere we have included in the atmosphere model we feed the inversion with. One possibility to address this issue is to use the response functions (REFERENCES!!!), which can be calculated using STiC:"
   ]
  },
  {
   "cell_type": "code",
   "execution_count": null,
   "id": "45690a80-17a4-4314-ad76-4d9b5eb54045",
   "metadata": {},
   "outputs": [],
   "source": [
    "!ln -vfs input_lte_rf.cfg input.cfg"
   ]
  },
  {
   "cell_type": "code",
   "execution_count": null,
   "id": "1142d31c-e3b7-4c63-806f-3787f4e982da",
   "metadata": {},
   "outputs": [],
   "source": [
    "!mpirun -n 2 ./STiC.x"
   ]
  },
  {
   "cell_type": "code",
   "execution_count": null,
   "id": "b921fcd0-2619-4148-a578-7cc665485b83",
   "metadata": {},
   "outputs": [],
   "source": []
  },
  {
   "cell_type": "code",
   "execution_count": null,
   "id": "d48eebe7-b63c-4d5f-b288-c6f6f40a657a",
   "metadata": {
    "scrolled": true
   },
   "outputs": [],
   "source": [
    "!ln -vfs input_crd_rf.cfg input.cfg"
   ]
  },
  {
   "cell_type": "code",
   "execution_count": null,
   "id": "183b5440-3b61-416d-ab41-8d628a511ad8",
   "metadata": {},
   "outputs": [],
   "source": [
    "!ln -vfs keyword_crd.input keyword.input"
   ]
  },
  {
   "cell_type": "code",
   "execution_count": null,
   "id": "a0c8c1bf-3e07-4590-8638-d37eae3499ca",
   "metadata": {},
   "outputs": [],
   "source": [
    "!mpirun -n 2 ./STiC.x"
   ]
  },
  {
   "cell_type": "code",
   "execution_count": null,
   "id": "6902be2a-1ec7-443a-8358-2cc3f0e69247",
   "metadata": {},
   "outputs": [],
   "source": []
  },
  {
   "cell_type": "code",
   "execution_count": null,
   "id": "e9e80b87-096e-473e-a0ea-98ee5a56ec46",
   "metadata": {},
   "outputs": [],
   "source": []
  },
  {
   "cell_type": "code",
   "execution_count": null,
   "id": "2c23bb45",
   "metadata": {},
   "outputs": [],
   "source": [
    "!ln -vfs input_prd_rf.cfg input.cfg"
   ]
  },
  {
   "cell_type": "code",
   "execution_count": null,
   "id": "94eec224-8032-4bec-955f-4f4c936006b5",
   "metadata": {},
   "outputs": [],
   "source": [
    "!ln -vfs keyword_prd.input keyword.input"
   ]
  },
  {
   "cell_type": "code",
   "execution_count": null,
   "id": "5ac9c5dc",
   "metadata": {
    "scrolled": true
   },
   "outputs": [],
   "source": [
    "!mpirun -n 2 ./STiC.x"
   ]
  },
  {
   "cell_type": "code",
   "execution_count": null,
   "id": "037d22e9-e91a-42b2-9b0b-67fab68adedd",
   "metadata": {},
   "outputs": [],
   "source": []
  },
  {
   "cell_type": "code",
   "execution_count": null,
   "id": "a127d415-a928-4494-af02-dd4c36bb3f9b",
   "metadata": {},
   "outputs": [],
   "source": [
    "tt = sp.profile(\"synthetic_cycle1_prd_rf.nc\")"
   ]
  },
  {
   "cell_type": "code",
   "execution_count": null,
   "id": "3111b3ee-477c-431f-a972-eba5f50fe43e",
   "metadata": {},
   "outputs": [],
   "source": [
    "pl.figure(figsize=(14,8))\n",
    "im = pl.imshow(tt.rf[0,0,0,0,:,:,0], origin='lower', vmax=0.00005, cmap=\"Spectral\", interpolation=\"none\")\n",
    "cbar = pl.colorbar(im)"
   ]
  },
  {
   "cell_type": "code",
   "execution_count": null,
   "id": "97240b97-be08-45ee-8ee7-7ecfb5c7bce9",
   "metadata": {},
   "outputs": [],
   "source": []
  },
  {
   "cell_type": "code",
   "execution_count": null,
   "id": "a2514f10-5686-4210-b3b6-4292c07b8e41",
   "metadata": {},
   "outputs": [],
   "source": []
  },
  {
   "cell_type": "code",
   "execution_count": null,
   "id": "56db87bd-d7b1-4418-99d9-27ecb30ccf2f",
   "metadata": {},
   "outputs": [],
   "source": []
  },
  {
   "cell_type": "code",
   "execution_count": null,
   "id": "d522766f-275b-499e-addc-ff3b54f491e2",
   "metadata": {},
   "outputs": [],
   "source": []
  },
  {
   "cell_type": "code",
   "execution_count": null,
   "id": "bdcd1b68-20e3-47d1-930c-fe08164029f6",
   "metadata": {},
   "outputs": [],
   "source": []
  },
  {
   "cell_type": "code",
   "execution_count": null,
   "id": "2c901cc8-bc20-4a08-8b51-d6802930b51b",
   "metadata": {},
   "outputs": [],
   "source": []
  },
  {
   "cell_type": "code",
   "execution_count": null,
   "id": "e981ba92-50d0-48f7-8fdd-4e713cc20837",
   "metadata": {},
   "outputs": [],
   "source": []
  },
  {
   "cell_type": "code",
   "execution_count": null,
   "id": "fec4d9d2-cf91-4e30-bff7-40326c0f973b",
   "metadata": {},
   "outputs": [],
   "source": []
  },
  {
   "cell_type": "code",
   "execution_count": null,
   "id": "4ec5207f-507f-47d0-bd5b-c873f1a7112e",
   "metadata": {},
   "outputs": [],
   "source": []
  }
 ],
 "metadata": {
  "kernelspec": {
   "display_name": "Python 3 (ipykernel)",
   "language": "python",
   "name": "python3"
  },
  "language_info": {
   "codemirror_mode": {
    "name": "ipython",
    "version": 3
   },
   "file_extension": ".py",
   "mimetype": "text/x-python",
   "name": "python",
   "nbconvert_exporter": "python",
   "pygments_lexer": "ipython3",
   "version": "3.12.3"
  }
 },
 "nbformat": 4,
 "nbformat_minor": 5
}
